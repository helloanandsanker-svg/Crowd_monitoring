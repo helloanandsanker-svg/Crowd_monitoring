{
  "nbformat": 4,
  "nbformat_minor": 0,
  "metadata": {
    "colab": {
      "provenance": [],
      "gpuType": "T4"
    },
    "kernelspec": {
      "name": "python3",
      "display_name": "Python 3"
    },
    "language_info": {
      "name": "python"
    },
    "accelerator": "GPU"
  },
  "cells": [
    {
      "cell_type": "code",
      "execution_count": null,
      "metadata": {
        "colab": {
          "base_uri": "https://localhost:8080/",
          "height": 1000
        },
        "id": "jr8jZmQw0v-N",
        "outputId": "1f3d2717-51b2-4338-902c-2215781296e8"
      },
      "outputs": [
        {
          "metadata": {
            "tags": null
          },
          "name": "stdout",
          "output_type": "stream",
          "text": [
            "All libraries imported successfully.\n",
            "\n",
            "Mounting Google Drive...\n",
            "Mounted at /content/drive\n",
            "\n",
            "Copying datasets from Google Drive to the local Colab environment.\n",
            "This will take several minutes but will significantly speed up training.\n",
            "\n",
            "Copying complete! ✅\n",
            "\n",
            "Processing MALL dataset...\n",
            "Loaded 2000 images from the MALL dataset.\n",
            "\n",
            "Processing ShanghaiTech dataset...\n",
            "Loaded 1198 images from the ShanghaiTech dataset.\n",
            "\n",
            "Processing a subset of the UCF-QNRF dataset...\n",
            "Reached image limit of 1000. Stopping.\n",
            "Loaded 1000 images from the UCF-QNRF dataset.\n",
            "\n",
            "Combining all datasets and categorizing into 3 classes...\n",
            "\n",
            "Total combined images: 4198\n",
            "\n",
            "Final 3-class category distribution:\n",
            "category\n",
            "Medium    2782\n",
            "High       797\n",
            "Low        619\n",
            "Name: count, dtype: int64\n",
            "\n",
            "Copying training images into class folders...\n",
            "Copying validation images into class folders...\n",
            "\n",
            "Image organization complete. ✅\n",
            "Total training images: 3358\n",
            "Total validation images: 840\n",
            "\n",
            "Defining the model architecture...\n",
            "Downloading data from https://storage.googleapis.com/tensorflow/keras-applications/mobilenet_v2/mobilenet_v2_weights_tf_dim_ordering_tf_kernels_1.0_224_no_top.h5\n",
            "\u001b[1m9406464/9406464\u001b[0m \u001b[32m━━━━━━━━━━━━━━━━━━━━\u001b[0m\u001b[37m\u001b[0m \u001b[1m0s\u001b[0m 0us/step\n"
          ]
        },
        {
          "data": {
            "text/html": [
              "<pre style=\"white-space:pre;overflow-x:auto;line-height:normal;font-family:Menlo,'DejaVu Sans Mono',consolas,'Courier New',monospace\"><span style=\"font-weight: bold\">Model: \"functional\"</span>\n",
              "</pre>\n"
            ],
            "text/plain": [
              "\u001b[1mModel: \"functional\"\u001b[0m\n"
            ]
          },
          "metadata": {},
          "output_type": "display_data"
        },
        {
          "data": {
            "text/html": [
              "<pre style=\"white-space:pre;overflow-x:auto;line-height:normal;font-family:Menlo,'DejaVu Sans Mono',consolas,'Courier New',monospace\">┏━━━━━━━━━━━━━━━━━━━━━━━━━━━━━━━━━┳━━━━━━━━━━━━━━━━━━━━━━━━┳━━━━━━━━━━━━━━━┓\n",
              "┃<span style=\"font-weight: bold\"> Layer (type)                    </span>┃<span style=\"font-weight: bold\"> Output Shape           </span>┃<span style=\"font-weight: bold\">       Param # </span>┃\n",
              "┡━━━━━━━━━━━━━━━━━━━━━━━━━━━━━━━━━╇━━━━━━━━━━━━━━━━━━━━━━━━╇━━━━━━━━━━━━━━━┩\n",
              "│ input_layer_1 (<span style=\"color: #0087ff; text-decoration-color: #0087ff\">InputLayer</span>)      │ (<span style=\"color: #00d7ff; text-decoration-color: #00d7ff\">None</span>, <span style=\"color: #00af00; text-decoration-color: #00af00\">224</span>, <span style=\"color: #00af00; text-decoration-color: #00af00\">224</span>, <span style=\"color: #00af00; text-decoration-color: #00af00\">3</span>)    │             <span style=\"color: #00af00; text-decoration-color: #00af00\">0</span> │\n",
              "├─────────────────────────────────┼────────────────────────┼───────────────┤\n",
              "│ mobilenetv2_1.00_224            │ (<span style=\"color: #00d7ff; text-decoration-color: #00d7ff\">None</span>, <span style=\"color: #00af00; text-decoration-color: #00af00\">7</span>, <span style=\"color: #00af00; text-decoration-color: #00af00\">7</span>, <span style=\"color: #00af00; text-decoration-color: #00af00\">1280</span>)     │     <span style=\"color: #00af00; text-decoration-color: #00af00\">2,257,984</span> │\n",
              "│ (<span style=\"color: #0087ff; text-decoration-color: #0087ff\">Functional</span>)                    │                        │               │\n",
              "├─────────────────────────────────┼────────────────────────┼───────────────┤\n",
              "│ flatten (<span style=\"color: #0087ff; text-decoration-color: #0087ff\">Flatten</span>)               │ (<span style=\"color: #00d7ff; text-decoration-color: #00d7ff\">None</span>, <span style=\"color: #00af00; text-decoration-color: #00af00\">62720</span>)          │             <span style=\"color: #00af00; text-decoration-color: #00af00\">0</span> │\n",
              "├─────────────────────────────────┼────────────────────────┼───────────────┤\n",
              "│ dense (<span style=\"color: #0087ff; text-decoration-color: #0087ff\">Dense</span>)                   │ (<span style=\"color: #00d7ff; text-decoration-color: #00d7ff\">None</span>, <span style=\"color: #00af00; text-decoration-color: #00af00\">256</span>)            │    <span style=\"color: #00af00; text-decoration-color: #00af00\">16,056,576</span> │\n",
              "├─────────────────────────────────┼────────────────────────┼───────────────┤\n",
              "│ dropout (<span style=\"color: #0087ff; text-decoration-color: #0087ff\">Dropout</span>)               │ (<span style=\"color: #00d7ff; text-decoration-color: #00d7ff\">None</span>, <span style=\"color: #00af00; text-decoration-color: #00af00\">256</span>)            │             <span style=\"color: #00af00; text-decoration-color: #00af00\">0</span> │\n",
              "├─────────────────────────────────┼────────────────────────┼───────────────┤\n",
              "│ dense_1 (<span style=\"color: #0087ff; text-decoration-color: #0087ff\">Dense</span>)                 │ (<span style=\"color: #00d7ff; text-decoration-color: #00d7ff\">None</span>, <span style=\"color: #00af00; text-decoration-color: #00af00\">3</span>)              │           <span style=\"color: #00af00; text-decoration-color: #00af00\">771</span> │\n",
              "└─────────────────────────────────┴────────────────────────┴───────────────┘\n",
              "</pre>\n"
            ],
            "text/plain": [
              "┏━━━━━━━━━━━━━━━━━━━━━━━━━━━━━━━━━┳━━━━━━━━━━━━━━━━━━━━━━━━┳━━━━━━━━━━━━━━━┓\n",
              "┃\u001b[1m \u001b[0m\u001b[1mLayer (type)                   \u001b[0m\u001b[1m \u001b[0m┃\u001b[1m \u001b[0m\u001b[1mOutput Shape          \u001b[0m\u001b[1m \u001b[0m┃\u001b[1m \u001b[0m\u001b[1m      Param #\u001b[0m\u001b[1m \u001b[0m┃\n",
              "┡━━━━━━━━━━━━━━━━━━━━━━━━━━━━━━━━━╇━━━━━━━━━━━━━━━━━━━━━━━━╇━━━━━━━━━━━━━━━┩\n",
              "│ input_layer_1 (\u001b[38;5;33mInputLayer\u001b[0m)      │ (\u001b[38;5;45mNone\u001b[0m, \u001b[38;5;34m224\u001b[0m, \u001b[38;5;34m224\u001b[0m, \u001b[38;5;34m3\u001b[0m)    │             \u001b[38;5;34m0\u001b[0m │\n",
              "├─────────────────────────────────┼────────────────────────┼───────────────┤\n",
              "│ mobilenetv2_1.00_224            │ (\u001b[38;5;45mNone\u001b[0m, \u001b[38;5;34m7\u001b[0m, \u001b[38;5;34m7\u001b[0m, \u001b[38;5;34m1280\u001b[0m)     │     \u001b[38;5;34m2,257,984\u001b[0m │\n",
              "│ (\u001b[38;5;33mFunctional\u001b[0m)                    │                        │               │\n",
              "├─────────────────────────────────┼────────────────────────┼───────────────┤\n",
              "│ flatten (\u001b[38;5;33mFlatten\u001b[0m)               │ (\u001b[38;5;45mNone\u001b[0m, \u001b[38;5;34m62720\u001b[0m)          │             \u001b[38;5;34m0\u001b[0m │\n",
              "├─────────────────────────────────┼────────────────────────┼───────────────┤\n",
              "│ dense (\u001b[38;5;33mDense\u001b[0m)                   │ (\u001b[38;5;45mNone\u001b[0m, \u001b[38;5;34m256\u001b[0m)            │    \u001b[38;5;34m16,056,576\u001b[0m │\n",
              "├─────────────────────────────────┼────────────────────────┼───────────────┤\n",
              "│ dropout (\u001b[38;5;33mDropout\u001b[0m)               │ (\u001b[38;5;45mNone\u001b[0m, \u001b[38;5;34m256\u001b[0m)            │             \u001b[38;5;34m0\u001b[0m │\n",
              "├─────────────────────────────────┼────────────────────────┼───────────────┤\n",
              "│ dense_1 (\u001b[38;5;33mDense\u001b[0m)                 │ (\u001b[38;5;45mNone\u001b[0m, \u001b[38;5;34m3\u001b[0m)              │           \u001b[38;5;34m771\u001b[0m │\n",
              "└─────────────────────────────────┴────────────────────────┴───────────────┘\n"
            ]
          },
          "metadata": {},
          "output_type": "display_data"
        },
        {
          "data": {
            "text/html": [
              "<pre style=\"white-space:pre;overflow-x:auto;line-height:normal;font-family:Menlo,'DejaVu Sans Mono',consolas,'Courier New',monospace\"><span style=\"font-weight: bold\"> Total params: </span><span style=\"color: #00af00; text-decoration-color: #00af00\">18,315,331</span> (69.87 MB)\n",
              "</pre>\n"
            ],
            "text/plain": [
              "\u001b[1m Total params: \u001b[0m\u001b[38;5;34m18,315,331\u001b[0m (69.87 MB)\n"
            ]
          },
          "metadata": {},
          "output_type": "display_data"
        },
        {
          "data": {
            "text/html": [
              "<pre style=\"white-space:pre;overflow-x:auto;line-height:normal;font-family:Menlo,'DejaVu Sans Mono',consolas,'Courier New',monospace\"><span style=\"font-weight: bold\"> Trainable params: </span><span style=\"color: #00af00; text-decoration-color: #00af00\">17,912,451</span> (68.33 MB)\n",
              "</pre>\n"
            ],
            "text/plain": [
              "\u001b[1m Trainable params: \u001b[0m\u001b[38;5;34m17,912,451\u001b[0m (68.33 MB)\n"
            ]
          },
          "metadata": {},
          "output_type": "display_data"
        },
        {
          "data": {
            "text/html": [
              "<pre style=\"white-space:pre;overflow-x:auto;line-height:normal;font-family:Menlo,'DejaVu Sans Mono',consolas,'Courier New',monospace\"><span style=\"font-weight: bold\"> Non-trainable params: </span><span style=\"color: #00af00; text-decoration-color: #00af00\">402,880</span> (1.54 MB)\n",
              "</pre>\n"
            ],
            "text/plain": [
              "\u001b[1m Non-trainable params: \u001b[0m\u001b[38;5;34m402,880\u001b[0m (1.54 MB)\n"
            ]
          },
          "metadata": {},
          "output_type": "display_data"
        },
        {
          "metadata": {
            "tags": null
          },
          "name": "stdout",
          "output_type": "stream",
          "text": [
            "\n",
            "Setting up data generators...\n",
            "Found 3358 images belonging to 3 classes.\n",
            "Found 840 images belonging to 3 classes.\n",
            "\n",
            "Class Indices Found: {'High': 0, 'Low': 1, 'Medium': 2}\n",
            "\n",
            "Starting model training...\n",
            "Class Labels: ['High', 'Low', 'Medium']\n",
            "Calculated Class Weights: {0: np.float64(1.7380952380952381), 1: np.float64(2.247657295850067), 2: np.float64(0.5051143200962696)}\n"
          ]
        },
        {
          "metadata": {
            "tags": null
          },
          "name": "stderr",
          "output_type": "stream",
          "text": [
            "/usr/local/lib/python3.12/dist-packages/keras/src/trainers/data_adapters/py_dataset_adapter.py:121: UserWarning: Your `PyDataset` class should call `super().__init__(**kwargs)` in its constructor. `**kwargs` can include `workers`, `use_multiprocessing`, `max_queue_size`. Do not pass these arguments to `fit()`, as they will be ignored.\n",
            "  self._warn_if_super_not_called()\n"
          ]
        },
        {
          "metadata": {
            "tags": null
          },
          "name": "stdout",
          "output_type": "stream",
          "text": [
            "Epoch 1/30\n",
            "\u001b[1m105/105\u001b[0m \u001b[32m━━━━━━━━━━━━━━━━━━━━\u001b[0m\u001b[37m\u001b[0m \u001b[1m0s\u001b[0m 1s/step - accuracy: 0.5166 - loss: 1.4993\n",
            "Epoch 1: val_accuracy improved from -inf to 0.60476, saving model to best_crowd_model_3_classes.h5\n"
          ]
        },
        {
          "metadata": {
            "tags": null
          },
          "name": "stderr",
          "output_type": "stream",
          "text": [
            "WARNING:absl:You are saving your model as an HDF5 file via `model.save()` or `keras.saving.save_model(model)`. This file format is considered legacy. We recommend using instead the native Keras format, e.g. `model.save('my_model.keras')` or `keras.saving.save_model(model, 'my_model.keras')`. \n"
          ]
        },
        {
          "metadata": {
            "tags": null
          },
          "name": "stdout",
          "output_type": "stream",
          "text": [
            "\u001b[1m105/105\u001b[0m \u001b[32m━━━━━━━━━━━━━━━━━━━━\u001b[0m\u001b[37m\u001b[0m \u001b[1m203s\u001b[0m 2s/step - accuracy: 0.5170 - loss: 1.4949 - val_accuracy: 0.6048 - val_loss: 0.7807 - learning_rate: 5.0000e-05\n",
            "Epoch 2/30\n",
            "\u001b[1m105/105\u001b[0m \u001b[32m━━━━━━━━━━━━━━━━━━━━\u001b[0m\u001b[37m\u001b[0m \u001b[1m0s\u001b[0m 1s/step - accuracy: 0.6071 - loss: 0.6922\n",
            "Epoch 2: val_accuracy did not improve from 0.60476\n",
            "\u001b[1m105/105\u001b[0m \u001b[32m━━━━━━━━━━━━━━━━━━━━\u001b[0m\u001b[37m\u001b[0m \u001b[1m126s\u001b[0m 1s/step - accuracy: 0.6071 - loss: 0.6923 - val_accuracy: 0.5405 - val_loss: 0.7966 - learning_rate: 5.0000e-05\n",
            "Epoch 3/30\n",
            "\u001b[1m105/105\u001b[0m \u001b[32m━━━━━━━━━━━━━━━━━━━━\u001b[0m\u001b[37m\u001b[0m \u001b[1m0s\u001b[0m 983ms/step - accuracy: 0.6192 - loss: 0.6616\n",
            "Epoch 3: val_accuracy did not improve from 0.60476\n",
            "\u001b[1m105/105\u001b[0m \u001b[32m━━━━━━━━━━━━━━━━━━━━\u001b[0m\u001b[37m\u001b[0m \u001b[1m123s\u001b[0m 1s/step - accuracy: 0.6193 - loss: 0.6613 - val_accuracy: 0.5988 - val_loss: 0.7516 - learning_rate: 5.0000e-05\n",
            "Epoch 4/30\n",
            "\u001b[1m105/105\u001b[0m \u001b[32m━━━━━━━━━━━━━━━━━━━━\u001b[0m\u001b[37m\u001b[0m \u001b[1m0s\u001b[0m 993ms/step - accuracy: 0.6850 - loss: 0.5911\n",
            "Epoch 4: val_accuracy improved from 0.60476 to 0.67381, saving model to best_crowd_model_3_classes.h5\n"
          ]
        },
        {
          "metadata": {
            "tags": null
          },
          "name": "stderr",
          "output_type": "stream",
          "text": [
            "WARNING:absl:You are saving your model as an HDF5 file via `model.save()` or `keras.saving.save_model(model)`. This file format is considered legacy. We recommend using instead the native Keras format, e.g. `model.save('my_model.keras')` or `keras.saving.save_model(model, 'my_model.keras')`. \n"
          ]
        },
        {
          "output_type": "stream",
          "name": "stdout",
          "text": [
            "\u001b[1m105/105\u001b[0m \u001b[32m━━━━━━━━━━━━━━━━━━━━\u001b[0m\u001b[37m\u001b[0m \u001b[1m122s\u001b[0m 1s/step - accuracy: 0.6850 - loss: 0.5911 - val_accuracy: 0.6738 - val_loss: 0.6819 - learning_rate: 5.0000e-05\n",
            "Epoch 5/30\n",
            "\u001b[1m105/105\u001b[0m \u001b[32m━━━━━━━━━━━━━━━━━━━━\u001b[0m\u001b[37m\u001b[0m \u001b[1m0s\u001b[0m 1s/step - accuracy: 0.6980 - loss: 0.5855\n",
            "Epoch 5: val_accuracy did not improve from 0.67381\n",
            "\u001b[1m105/105\u001b[0m \u001b[32m━━━━━━━━━━━━━━━━━━━━\u001b[0m\u001b[37m\u001b[0m \u001b[1m124s\u001b[0m 1s/step - accuracy: 0.6980 - loss: 0.5853 - val_accuracy: 0.5726 - val_loss: 0.8773 - learning_rate: 5.0000e-05\n",
            "Epoch 6/30\n",
            "\u001b[1m105/105\u001b[0m \u001b[32m━━━━━━━━━━━━━━━━━━━━\u001b[0m\u001b[37m\u001b[0m \u001b[1m0s\u001b[0m 1s/step - accuracy: 0.7083 - loss: 0.5139\n",
            "Epoch 6: val_accuracy did not improve from 0.67381\n",
            "\n",
            "Epoch 6: ReduceLROnPlateau reducing learning rate to 9.999999747378752e-06.\n",
            "\u001b[1m105/105\u001b[0m \u001b[32m━━━━━━━━━━━━━━━━━━━━\u001b[0m\u001b[37m\u001b[0m \u001b[1m123s\u001b[0m 1s/step - accuracy: 0.7085 - loss: 0.5139 - val_accuracy: 0.6226 - val_loss: 0.6931 - learning_rate: 5.0000e-05\n",
            "Epoch 7/30\n",
            "\u001b[1m105/105\u001b[0m \u001b[32m━━━━━━━━━━━━━━━━━━━━\u001b[0m\u001b[37m\u001b[0m \u001b[1m0s\u001b[0m 994ms/step - accuracy: 0.7262 - loss: 0.4949\n",
            "Epoch 7: val_accuracy did not improve from 0.67381\n",
            "\u001b[1m105/105\u001b[0m \u001b[32m━━━━━━━━━━━━━━━━━━━━\u001b[0m\u001b[37m\u001b[0m \u001b[1m123s\u001b[0m 1s/step - accuracy: 0.7262 - loss: 0.4949 - val_accuracy: 0.6405 - val_loss: 0.6815 - learning_rate: 1.0000e-05\n",
            "Epoch 8/30\n",
            "\u001b[1m105/105\u001b[0m \u001b[32m━━━━━━━━━━━━━━━━━━━━\u001b[0m\u001b[37m\u001b[0m \u001b[1m0s\u001b[0m 1s/step - accuracy: 0.7637 - loss: 0.4829\n",
            "Epoch 8: val_accuracy did not improve from 0.67381\n",
            "\u001b[1m105/105\u001b[0m \u001b[32m━━━━━━━━━━━━━━━━━━━━\u001b[0m\u001b[37m\u001b[0m \u001b[1m124s\u001b[0m 1s/step - accuracy: 0.7637 - loss: 0.4828 - val_accuracy: 0.6714 - val_loss: 0.6371 - learning_rate: 1.0000e-05\n",
            "Epoch 9/30\n",
            "\u001b[1m105/105\u001b[0m \u001b[32m━━━━━━━━━━━━━━━━━━━━\u001b[0m\u001b[37m\u001b[0m \u001b[1m0s\u001b[0m 1s/step - accuracy: 0.7580 - loss: 0.4815\n",
            "Epoch 9: val_accuracy did not improve from 0.67381\n",
            "\u001b[1m105/105\u001b[0m \u001b[32m━━━━━━━━━━━━━━━━━━━━\u001b[0m\u001b[37m\u001b[0m \u001b[1m123s\u001b[0m 1s/step - accuracy: 0.7580 - loss: 0.4813 - val_accuracy: 0.6476 - val_loss: 0.6663 - learning_rate: 1.0000e-05\n",
            "Epoch 10/30\n",
            "\u001b[1m105/105\u001b[0m \u001b[32m━━━━━━━━━━━━━━━━━━━━\u001b[0m\u001b[37m\u001b[0m \u001b[1m0s\u001b[0m 980ms/step - accuracy: 0.7528 - loss: 0.4622\n",
            "Epoch 10: val_accuracy did not improve from 0.67381\n",
            "\n",
            "Epoch 10: ReduceLROnPlateau reducing learning rate to 1.9999999494757505e-06.\n",
            "\u001b[1m105/105\u001b[0m \u001b[32m━━━━━━━━━━━━━━━━━━━━\u001b[0m\u001b[37m\u001b[0m \u001b[1m120s\u001b[0m 1s/step - accuracy: 0.7529 - loss: 0.4621 - val_accuracy: 0.6333 - val_loss: 0.6884 - learning_rate: 1.0000e-05\n",
            "Epoch 11/30\n",
            "\u001b[1m105/105\u001b[0m \u001b[32m━━━━━━━━━━━━━━━━━━━━\u001b[0m\u001b[37m\u001b[0m \u001b[1m0s\u001b[0m 1s/step - accuracy: 0.7483 - loss: 0.4462\n",
            "Epoch 11: val_accuracy did not improve from 0.67381\n",
            "\u001b[1m105/105\u001b[0m \u001b[32m━━━━━━━━━━━━━━━━━━━━\u001b[0m\u001b[37m\u001b[0m \u001b[1m124s\u001b[0m 1s/step - accuracy: 0.7484 - loss: 0.4463 - val_accuracy: 0.6524 - val_loss: 0.6519 - learning_rate: 2.0000e-06\n",
            "Epoch 12/30\n",
            "\u001b[1m105/105\u001b[0m \u001b[32m━━━━━━━━━━━━━━━━━━━━\u001b[0m\u001b[37m\u001b[0m \u001b[1m0s\u001b[0m 969ms/step - accuracy: 0.7648 - loss: 0.4565\n",
            "Epoch 12: val_accuracy did not improve from 0.67381\n",
            "\n",
            "Epoch 12: ReduceLROnPlateau reducing learning rate to 1e-06.\n",
            "\u001b[1m105/105\u001b[0m \u001b[32m━━━━━━━━━━━━━━━━━━━━\u001b[0m\u001b[37m\u001b[0m \u001b[1m119s\u001b[0m 1s/step - accuracy: 0.7648 - loss: 0.4564 - val_accuracy: 0.6667 - val_loss: 0.6379 - learning_rate: 2.0000e-06\n",
            "Epoch 13/30\n",
            "\u001b[1m105/105\u001b[0m \u001b[32m━━━━━━━━━━━━━━━━━━━━\u001b[0m\u001b[37m\u001b[0m \u001b[1m0s\u001b[0m 1s/step - accuracy: 0.7647 - loss: 0.4700\n",
            "Epoch 13: val_accuracy improved from 0.67381 to 0.67500, saving model to best_crowd_model_3_classes.h5\n"
          ]
        },
        {
          "output_type": "stream",
          "name": "stderr",
          "text": [
            "WARNING:absl:You are saving your model as an HDF5 file via `model.save()` or `keras.saving.save_model(model)`. This file format is considered legacy. We recommend using instead the native Keras format, e.g. `model.save('my_model.keras')` or `keras.saving.save_model(model, 'my_model.keras')`. \n"
          ]
        },
        {
          "output_type": "stream",
          "name": "stdout",
          "text": [
            "\b\b\b\b\b\b\b\b\b\b\b\b\b\b\b\b\b\b\b\b\b\b\b\b\b\b\b\b\b\b\b\b\b\b\b\b\b\b\b\b\b\b\b\b\b\b\b\b\b\b\b\b\b\b\b\b\b\b\b\b\b\b\b\b\b\b\b\b\b\b\b\b\b\r\u001b[1m105/105\u001b[0m \u001b[32m━━━━━━━━━━━━━━━━━━━━\u001b[0m\u001b[37m\u001b[0m \u001b[1m123s\u001b[0m 1s/step - accuracy: 0.7647 - loss: 0.4699 - val_accuracy: 0.6750 - val_loss: 0.6323 - learning_rate: 1.0000e-06\n",
            "Epoch 14/30\n",
            "\u001b[1m105/105\u001b[0m \u001b[32m━━━━━━━━━━━━━━━━━━━━\u001b[0m\u001b[37m\u001b[0m \u001b[1m0s\u001b[0m 976ms/step - accuracy: 0.7668 - loss: 0.4436\n",
            "Epoch 14: val_accuracy improved from 0.67500 to 0.68214, saving model to best_crowd_model_3_classes.h5\n"
          ]
        },
        {
          "output_type": "stream",
          "name": "stderr",
          "text": [
            "WARNING:absl:You are saving your model as an HDF5 file via `model.save()` or `keras.saving.save_model(model)`. This file format is considered legacy. We recommend using instead the native Keras format, e.g. `model.save('my_model.keras')` or `keras.saving.save_model(model, 'my_model.keras')`. \n"
          ]
        },
        {
          "output_type": "stream",
          "name": "stdout",
          "text": [
            "\b\b\b\b\b\b\b\b\b\b\b\b\b\b\b\b\b\b\b\b\b\b\b\b\b\b\b\b\b\b\b\b\b\b\b\b\b\b\b\b\b\b\b\b\b\b\b\b\b\b\b\b\b\b\b\b\b\b\b\b\b\b\b\b\b\b\b\b\b\b\b\b\b\b\b\b\r\u001b[1m105/105\u001b[0m \u001b[32m━━━━━━━━━━━━━━━━━━━━\u001b[0m\u001b[37m\u001b[0m \u001b[1m122s\u001b[0m 1s/step - accuracy: 0.7668 - loss: 0.4438 - val_accuracy: 0.6821 - val_loss: 0.6290 - learning_rate: 1.0000e-06\n",
            "Epoch 15/30\n",
            "\u001b[1m105/105\u001b[0m \u001b[32m━━━━━━━━━━━━━━━━━━━━\u001b[0m\u001b[37m\u001b[0m \u001b[1m0s\u001b[0m 984ms/step - accuracy: 0.7706 - loss: 0.4403\n",
            "Epoch 15: val_accuracy improved from 0.68214 to 0.69643, saving model to best_crowd_model_3_classes.h5\n"
          ]
        },
        {
          "output_type": "stream",
          "name": "stderr",
          "text": [
            "WARNING:absl:You are saving your model as an HDF5 file via `model.save()` or `keras.saving.save_model(model)`. This file format is considered legacy. We recommend using instead the native Keras format, e.g. `model.save('my_model.keras')` or `keras.saving.save_model(model, 'my_model.keras')`. \n"
          ]
        },
        {
          "output_type": "stream",
          "name": "stdout",
          "text": [
            "\b\b\b\b\b\b\b\b\b\b\b\b\b\b\b\b\b\b\b\b\b\b\b\b\b\b\b\b\b\b\b\b\b\b\b\b\b\b\b\b\b\b\b\b\b\b\b\b\b\b\b\b\b\b\b\b\b\b\b\b\b\b\b\b\b\b\b\b\b\b\b\b\b\b\b\b\r\u001b[1m105/105\u001b[0m \u001b[32m━━━━━━━━━━━━━━━━━━━━\u001b[0m\u001b[37m\u001b[0m \u001b[1m123s\u001b[0m 1s/step - accuracy: 0.7705 - loss: 0.4404 - val_accuracy: 0.6964 - val_loss: 0.6201 - learning_rate: 1.0000e-06\n",
            "Epoch 16/30\n",
            "\u001b[1m105/105\u001b[0m \u001b[32m━━━━━━━━━━━━━━━━━━━━\u001b[0m\u001b[37m\u001b[0m \u001b[1m0s\u001b[0m 985ms/step - accuracy: 0.7658 - loss: 0.4605\n",
            "Epoch 16: val_accuracy did not improve from 0.69643\n",
            "\u001b[1m105/105\u001b[0m \u001b[32m━━━━━━━━━━━━━━━━━━━━\u001b[0m\u001b[37m\u001b[0m \u001b[1m120s\u001b[0m 1s/step - accuracy: 0.7659 - loss: 0.4604 - val_accuracy: 0.6964 - val_loss: 0.6160 - learning_rate: 1.0000e-06\n",
            "Epoch 17/30\n",
            "\u001b[1m105/105\u001b[0m \u001b[32m━━━━━━━━━━━━━━━━━━━━\u001b[0m\u001b[37m\u001b[0m \u001b[1m0s\u001b[0m 977ms/step - accuracy: 0.7713 - loss: 0.4129\n",
            "Epoch 17: val_accuracy did not improve from 0.69643\n",
            "\u001b[1m105/105\u001b[0m \u001b[32m━━━━━━━━━━━━━━━━━━━━\u001b[0m\u001b[37m\u001b[0m \u001b[1m119s\u001b[0m 1s/step - accuracy: 0.7712 - loss: 0.4132 - val_accuracy: 0.6905 - val_loss: 0.6193 - learning_rate: 1.0000e-06\n",
            "Epoch 18/30\n",
            "\u001b[1m105/105\u001b[0m \u001b[32m━━━━━━━━━━━━━━━━━━━━\u001b[0m\u001b[37m\u001b[0m \u001b[1m0s\u001b[0m 967ms/step - accuracy: 0.7728 - loss: 0.4398\n",
            "Epoch 18: val_accuracy did not improve from 0.69643\n",
            "\u001b[1m105/105\u001b[0m \u001b[32m━━━━━━━━━━━━━━━━━━━━\u001b[0m\u001b[37m\u001b[0m \u001b[1m118s\u001b[0m 1s/step - accuracy: 0.7728 - loss: 0.4398 - val_accuracy: 0.6917 - val_loss: 0.6199 - learning_rate: 1.0000e-06\n",
            "Epoch 19/30\n",
            "\u001b[1m105/105\u001b[0m \u001b[32m━━━━━━━━━━━━━━━━━━━━\u001b[0m\u001b[37m\u001b[0m \u001b[1m0s\u001b[0m 969ms/step - accuracy: 0.7796 - loss: 0.4301\n",
            "Epoch 19: val_accuracy did not improve from 0.69643\n",
            "\u001b[1m105/105\u001b[0m \u001b[32m━━━━━━━━━━━━━━━━━━━━\u001b[0m\u001b[37m\u001b[0m \u001b[1m118s\u001b[0m 1s/step - accuracy: 0.7796 - loss: 0.4301 - val_accuracy: 0.6952 - val_loss: 0.6188 - learning_rate: 1.0000e-06\n",
            "Epoch 20/30\n",
            "\u001b[1m105/105\u001b[0m \u001b[32m━━━━━━━━━━━━━━━━━━━━\u001b[0m\u001b[37m\u001b[0m \u001b[1m0s\u001b[0m 971ms/step - accuracy: 0.7649 - loss: 0.4449\n",
            "Epoch 20: val_accuracy did not improve from 0.69643\n",
            "\u001b[1m105/105\u001b[0m \u001b[32m━━━━━━━━━━━━━━━━━━━━\u001b[0m\u001b[37m\u001b[0m \u001b[1m119s\u001b[0m 1s/step - accuracy: 0.7649 - loss: 0.4449 - val_accuracy: 0.6940 - val_loss: 0.6135 - learning_rate: 1.0000e-06\n",
            "Epoch 21/30\n",
            "\u001b[1m105/105\u001b[0m \u001b[32m━━━━━━━━━━━━━━━━━━━━\u001b[0m\u001b[37m\u001b[0m \u001b[1m0s\u001b[0m 968ms/step - accuracy: 0.7630 - loss: 0.4419\n",
            "Epoch 21: val_accuracy improved from 0.69643 to 0.70119, saving model to best_crowd_model_3_classes.h5\n"
          ]
        },
        {
          "output_type": "stream",
          "name": "stderr",
          "text": [
            "WARNING:absl:You are saving your model as an HDF5 file via `model.save()` or `keras.saving.save_model(model)`. This file format is considered legacy. We recommend using instead the native Keras format, e.g. `model.save('my_model.keras')` or `keras.saving.save_model(model, 'my_model.keras')`. \n"
          ]
        },
        {
          "output_type": "stream",
          "name": "stdout",
          "text": [
            "\b\b\b\b\b\b\b\b\b\b\b\b\b\b\b\b\b\b\b\b\b\b\b\b\b\b\b\b\b\b\b\b\b\b\b\b\b\b\b\b\b\b\b\b\b\b\b\b\b\b\b\b\b\b\b\b\b\b\b\b\b\b\b\b\b\b\b\b\b\b\b\b\b\b\b\b\r\u001b[1m105/105\u001b[0m \u001b[32m━━━━━━━━━━━━━━━━━━━━\u001b[0m\u001b[37m\u001b[0m \u001b[1m121s\u001b[0m 1s/step - accuracy: 0.7630 - loss: 0.4418 - val_accuracy: 0.7012 - val_loss: 0.6059 - learning_rate: 1.0000e-06\n",
            "Epoch 22/30\n",
            "\u001b[1m105/105\u001b[0m \u001b[32m━━━━━━━━━━━━━━━━━━━━\u001b[0m\u001b[37m\u001b[0m \u001b[1m0s\u001b[0m 970ms/step - accuracy: 0.7471 - loss: 0.4552\n",
            "Epoch 22: val_accuracy improved from 0.70119 to 0.70595, saving model to best_crowd_model_3_classes.h5\n"
          ]
        },
        {
          "output_type": "stream",
          "name": "stderr",
          "text": [
            "WARNING:absl:You are saving your model as an HDF5 file via `model.save()` or `keras.saving.save_model(model)`. This file format is considered legacy. We recommend using instead the native Keras format, e.g. `model.save('my_model.keras')` or `keras.saving.save_model(model, 'my_model.keras')`. \n"
          ]
        },
        {
          "output_type": "stream",
          "name": "stdout",
          "text": [
            "\b\b\b\b\b\b\b\b\b\b\b\b\b\b\b\b\b\b\b\b\b\b\b\b\b\b\b\b\b\b\b\b\b\b\b\b\b\b\b\b\b\b\b\b\b\b\b\b\b\b\b\b\b\b\b\b\b\b\b\b\b\b\b\b\b\b\b\b\b\b\b\b\b\b\b\b\r\u001b[1m105/105\u001b[0m \u001b[32m━━━━━━━━━━━━━━━━━━━━\u001b[0m\u001b[37m\u001b[0m \u001b[1m120s\u001b[0m 1s/step - accuracy: 0.7472 - loss: 0.4551 - val_accuracy: 0.7060 - val_loss: 0.5997 - learning_rate: 1.0000e-06\n",
            "Epoch 23/30\n",
            "\u001b[1m105/105\u001b[0m \u001b[32m━━━━━━━━━━━━━━━━━━━━\u001b[0m\u001b[37m\u001b[0m \u001b[1m0s\u001b[0m 971ms/step - accuracy: 0.7703 - loss: 0.4301\n",
            "Epoch 23: val_accuracy improved from 0.70595 to 0.70833, saving model to best_crowd_model_3_classes.h5\n"
          ]
        },
        {
          "output_type": "stream",
          "name": "stderr",
          "text": [
            "WARNING:absl:You are saving your model as an HDF5 file via `model.save()` or `keras.saving.save_model(model)`. This file format is considered legacy. We recommend using instead the native Keras format, e.g. `model.save('my_model.keras')` or `keras.saving.save_model(model, 'my_model.keras')`. \n"
          ]
        },
        {
          "output_type": "stream",
          "name": "stdout",
          "text": [
            "\b\b\b\b\b\b\b\b\b\b\b\b\b\b\b\b\b\b\b\b\b\b\b\b\b\b\b\b\b\b\b\b\b\b\b\b\b\b\b\b\b\b\b\b\b\b\b\b\b\b\b\b\b\b\b\b\b\b\b\b\b\b\b\b\b\b\b\b\b\b\b\b\b\b\b\b\r\u001b[1m105/105\u001b[0m \u001b[32m━━━━━━━━━━━━━━━━━━━━\u001b[0m\u001b[37m\u001b[0m \u001b[1m120s\u001b[0m 1s/step - accuracy: 0.7703 - loss: 0.4301 - val_accuracy: 0.7083 - val_loss: 0.5970 - learning_rate: 1.0000e-06\n",
            "Epoch 24/30\n",
            "\u001b[1m105/105\u001b[0m \u001b[32m━━━━━━━━━━━━━━━━━━━━\u001b[0m\u001b[37m\u001b[0m \u001b[1m0s\u001b[0m 971ms/step - accuracy: 0.7664 - loss: 0.4284\n",
            "Epoch 24: val_accuracy improved from 0.70833 to 0.71310, saving model to best_crowd_model_3_classes.h5\n"
          ]
        },
        {
          "output_type": "stream",
          "name": "stderr",
          "text": [
            "WARNING:absl:You are saving your model as an HDF5 file via `model.save()` or `keras.saving.save_model(model)`. This file format is considered legacy. We recommend using instead the native Keras format, e.g. `model.save('my_model.keras')` or `keras.saving.save_model(model, 'my_model.keras')`. \n"
          ]
        },
        {
          "output_type": "stream",
          "name": "stdout",
          "text": [
            "\b\b\b\b\b\b\b\b\b\b\b\b\b\b\b\b\b\b\b\b\b\b\b\b\b\b\b\b\b\b\b\b\b\b\b\b\b\b\b\b\b\b\b\b\b\b\b\b\b\b\b\b\b\b\b\b\b\b\b\b\b\b\b\b\b\b\b\b\b\b\b\b\b\b\b\b\r\u001b[1m105/105\u001b[0m \u001b[32m━━━━━━━━━━━━━━━━━━━━\u001b[0m\u001b[37m\u001b[0m \u001b[1m120s\u001b[0m 1s/step - accuracy: 0.7664 - loss: 0.4284 - val_accuracy: 0.7131 - val_loss: 0.5932 - learning_rate: 1.0000e-06\n",
            "Epoch 25/30\n",
            "\u001b[1m105/105\u001b[0m \u001b[32m━━━━━━━━━━━━━━━━━━━━\u001b[0m\u001b[37m\u001b[0m \u001b[1m0s\u001b[0m 977ms/step - accuracy: 0.7682 - loss: 0.4504\n",
            "Epoch 25: val_accuracy improved from 0.71310 to 0.71905, saving model to best_crowd_model_3_classes.h5\n"
          ]
        },
        {
          "output_type": "stream",
          "name": "stderr",
          "text": [
            "WARNING:absl:You are saving your model as an HDF5 file via `model.save()` or `keras.saving.save_model(model)`. This file format is considered legacy. We recommend using instead the native Keras format, e.g. `model.save('my_model.keras')` or `keras.saving.save_model(model, 'my_model.keras')`. \n"
          ]
        },
        {
          "output_type": "stream",
          "name": "stdout",
          "text": [
            "\b\b\b\b\b\b\b\b\b\b\b\b\b\b\b\b\b\b\b\b\b\b\b\b\b\b\b\b\b\b\b\b\b\b\b\b\b\b\b\b\b\b\b\b\b\b\b\b\b\b\b\b\b\b\b\b\b\b\b\b\b\b\b\b\b\b\b\b\b\b\b\b\b\b\b\b\r\u001b[1m105/105\u001b[0m \u001b[32m━━━━━━━━━━━━━━━━━━━━\u001b[0m\u001b[37m\u001b[0m \u001b[1m121s\u001b[0m 1s/step - accuracy: 0.7682 - loss: 0.4502 - val_accuracy: 0.7190 - val_loss: 0.5878 - learning_rate: 1.0000e-06\n",
            "Epoch 26/30\n",
            "\u001b[1m105/105\u001b[0m \u001b[32m━━━━━━━━━━━━━━━━━━━━\u001b[0m\u001b[37m\u001b[0m \u001b[1m0s\u001b[0m 991ms/step - accuracy: 0.7856 - loss: 0.4143\n",
            "Epoch 26: val_accuracy improved from 0.71905 to 0.72143, saving model to best_crowd_model_3_classes.h5\n"
          ]
        },
        {
          "output_type": "stream",
          "name": "stderr",
          "text": [
            "WARNING:absl:You are saving your model as an HDF5 file via `model.save()` or `keras.saving.save_model(model)`. This file format is considered legacy. We recommend using instead the native Keras format, e.g. `model.save('my_model.keras')` or `keras.saving.save_model(model, 'my_model.keras')`. \n"
          ]
        },
        {
          "output_type": "stream",
          "name": "stdout",
          "text": [
            "\b\b\b\b\b\b\b\b\b\b\b\b\b\b\b\b\b\b\b\b\b\b\b\b\b\b\b\b\b\b\b\b\b\b\b\b\b\b\b\b\b\b\b\b\b\b\b\b\b\b\b\b\b\b\b\b\b\b\b\b\b\b\b\b\b\b\b\b\b\b\b\b\b\b\b\b\r\u001b[1m105/105\u001b[0m \u001b[32m━━━━━━━━━━━━━━━━━━━━\u001b[0m\u001b[37m\u001b[0m \u001b[1m122s\u001b[0m 1s/step - accuracy: 0.7855 - loss: 0.4144 - val_accuracy: 0.7214 - val_loss: 0.5873 - learning_rate: 1.0000e-06\n",
            "Epoch 27/30\n",
            "\u001b[1m105/105\u001b[0m \u001b[32m━━━━━━━━━━━━━━━━━━━━\u001b[0m\u001b[37m\u001b[0m \u001b[1m0s\u001b[0m 978ms/step - accuracy: 0.7451 - loss: 0.4664\n",
            "Epoch 27: val_accuracy did not improve from 0.72143\n",
            "\u001b[1m105/105\u001b[0m \u001b[32m━━━━━━━━━━━━━━━━━━━━\u001b[0m\u001b[37m\u001b[0m \u001b[1m120s\u001b[0m 1s/step - accuracy: 0.7454 - loss: 0.4660 - val_accuracy: 0.7202 - val_loss: 0.5815 - learning_rate: 1.0000e-06\n",
            "Epoch 28/30\n",
            "\u001b[1m105/105\u001b[0m \u001b[32m━━━━━━━━━━━━━━━━━━━━\u001b[0m\u001b[37m\u001b[0m \u001b[1m0s\u001b[0m 975ms/step - accuracy: 0.7724 - loss: 0.4393\n",
            "Epoch 28: val_accuracy did not improve from 0.72143\n",
            "\u001b[1m105/105\u001b[0m \u001b[32m━━━━━━━━━━━━━━━━━━━━\u001b[0m\u001b[37m\u001b[0m \u001b[1m119s\u001b[0m 1s/step - accuracy: 0.7723 - loss: 0.4394 - val_accuracy: 0.7202 - val_loss: 0.5835 - learning_rate: 1.0000e-06\n",
            "Epoch 29/30\n",
            "\u001b[1m105/105\u001b[0m \u001b[32m━━━━━━━━━━━━━━━━━━━━\u001b[0m\u001b[37m\u001b[0m \u001b[1m0s\u001b[0m 966ms/step - accuracy: 0.7807 - loss: 0.4256\n",
            "Epoch 29: val_accuracy improved from 0.72143 to 0.72262, saving model to best_crowd_model_3_classes.h5\n"
          ]
        },
        {
          "output_type": "stream",
          "name": "stderr",
          "text": [
            "WARNING:absl:You are saving your model as an HDF5 file via `model.save()` or `keras.saving.save_model(model)`. This file format is considered legacy. We recommend using instead the native Keras format, e.g. `model.save('my_model.keras')` or `keras.saving.save_model(model, 'my_model.keras')`. \n"
          ]
        },
        {
          "output_type": "stream",
          "name": "stdout",
          "text": [
            "\b\b\b\b\b\b\b\b\b\b\b\b\b\b\b\b\b\b\b\b\b\b\b\b\b\b\b\b\b\b\b\b\b\b\b\b\b\b\b\b\b\b\b\b\b\b\b\b\b\b\b\b\b\b\b\b\b\b\b\b\b\b\b\b\b\b\b\b\b\b\b\b\b\b\b\b\r\u001b[1m105/105\u001b[0m \u001b[32m━━━━━━━━━━━━━━━━━━━━\u001b[0m\u001b[37m\u001b[0m \u001b[1m119s\u001b[0m 1s/step - accuracy: 0.7807 - loss: 0.4256 - val_accuracy: 0.7226 - val_loss: 0.5774 - learning_rate: 1.0000e-06\n",
            "Epoch 30/30\n",
            "\u001b[1m105/105\u001b[0m \u001b[32m━━━━━━━━━━━━━━━━━━━━\u001b[0m\u001b[37m\u001b[0m \u001b[1m0s\u001b[0m 978ms/step - accuracy: 0.7862 - loss: 0.4404\n",
            "Epoch 30: val_accuracy improved from 0.72262 to 0.72857, saving model to best_crowd_model_3_classes.h5\n"
          ]
        },
        {
          "output_type": "stream",
          "name": "stderr",
          "text": [
            "WARNING:absl:You are saving your model as an HDF5 file via `model.save()` or `keras.saving.save_model(model)`. This file format is considered legacy. We recommend using instead the native Keras format, e.g. `model.save('my_model.keras')` or `keras.saving.save_model(model, 'my_model.keras')`. \n"
          ]
        },
        {
          "output_type": "stream",
          "name": "stdout",
          "text": [
            "\b\b\b\b\b\b\b\b\b\b\b\b\b\b\b\b\b\b\b\b\b\b\b\b\b\b\b\b\b\b\b\b\b\b\b\b\b\b\b\b\b\b\b\b\b\b\b\b\b\b\b\b\b\b\b\b\b\b\b\b\b\b\b\b\b\b\b\b\b\b\b\b\b\b\b\b\r\u001b[1m105/105\u001b[0m \u001b[32m━━━━━━━━━━━━━━━━━━━━\u001b[0m\u001b[37m\u001b[0m \u001b[1m122s\u001b[0m 1s/step - accuracy: 0.7861 - loss: 0.4404 - val_accuracy: 0.7286 - val_loss: 0.5793 - learning_rate: 1.0000e-06\n",
            "Restoring model weights from the end of the best epoch: 29.\n",
            "\n",
            "Training finished. The best model was saved as 'best_crowd_model_3_classes.h5' ✅\n",
            "\n",
            "Plotting training history...\n"
          ]
        },
        {
          "output_type": "display_data",
          "data": {
            "text/plain": [
              "<Figure size 1400x600 with 2 Axes>"
            ],
            "image/png": "[encoded data removed]"
          },
          "metadata": {}
        },
        {
          "output_type": "stream",
          "name": "stdout",
          "text": [
            "\n",
            "Launching Gradio Interface...\n"
          ]
        },
        {
          "output_type": "stream",
          "name": "stderr",
          "text": [
            "WARNING:absl:Compiled the loaded model, but the compiled metrics have yet to be built. `model.compile_metrics` will be empty until you train or evaluate the model.\n"
          ]
        },
        {
          "output_type": "stream",
          "name": "stdout",
          "text": [
            "Colab notebook detected. This cell will run indefinitely so that you can see errors and logs. To turn off, set debug=False in launch().\n",
            "* Running on public URL: https://5c250cb66752f6777e.gradio.live\n",
            "\n",
            "This share link expires in 1 week. For free permanent hosting and GPU upgrades, run `gradio deploy` from the terminal in the working directory to deploy to Hugging Face Spaces (https://huggingface.co/spaces)\n"
          ]
        },
        {
          "output_type": "display_data",
          "data": {
            "text/plain": [
              "<IPython.core.display.HTML object>"
            ],
            "text/html": [
              "<div><iframe src=\"https://5c250cb66752f6777e.gradio.live\" width=\"100%\" height=\"500\" allow=\"autoplay; camera; microphone; clipboard-read; clipboard-write;\" frameborder=\"0\" allowfullscreen></iframe></div>"
            ]
          },
          "metadata": {}
        }
      ],
      "source": [
        "# ==============================================================================\n",
        "# SECTION 1: IMPORTS AND SETUP\n",
        "# ==============================================================================\n",
        "import os\n",
        "import shutil\n",
        "import glob\n",
        "import numpy as np\n",
        "import pandas as pd\n",
        "from scipy.io import loadmat\n",
        "import tensorflow as tf\n",
        "from tensorflow.keras.applications import MobileNetV2\n",
        "from tensorflow.keras.layers import Input, Flatten, Dense, Dropout\n",
        "from tensorflow.keras.models import Model\n",
        "from tensorflow.keras.preprocessing.image import ImageDataGenerator\n",
        "from tensorflow.keras.callbacks import ModelCheckpoint, EarlyStopping, ReduceLROnPlateau # Added ReduceLROnPlateau\n",
        "import matplotlib.pyplot as plt\n",
        "import gradio as gr\n",
        "from PIL import Image\n",
        "from sklearn.utils import class_weight\n",
        "from google.colab import drive\n",
        "\n",
        "print(\"All libraries imported successfully.\")\n",
        "\n",
        "# ==============================================================================\n",
        "# SECTION 2: MOUNT GOOGLE DRIVE AND COPY DATASETS\n",
        "# ==============================================================================\n",
        "print(\"\\nMounting Google Drive...\")\n",
        "drive.mount('/content/drive', force_remount=True)\n",
        "\n",
        "print(\"\\nCopying datasets from Google Drive to the local Colab environment.\")\n",
        "print(\"This will take several minutes but will significantly speed up training.\")\n",
        "\n",
        "# Define source paths in your Google Drive (CHANGE THESE IF YOURS ARE DIFFERENT)\n",
        "mall_source = '/content/drive/MyDrive/mini_project/dataset/mall_dataset'\n",
        "shanghaitech_source = '/content/drive/MyDrive/mini_project/dataset/shanghaitech_dataset/ShanghaiTech'\n",
        "ucf_qnrf_source = '/content/drive/MyDrive/mini_project/dataset/ucf_qnrf_dataset/UCF-QNRF_ECCV18'\n",
        "\n",
        "# Define destination paths in Colab's local storage\n",
        "mall_dest = '/content/mall_dataset'\n",
        "shanghaitech_dest = '/content/shanghaitech_dataset'\n",
        "ucf_qnrf_dest = '/content/ucf_qnrf_dataset'\n",
        "\n",
        "# Execute the copy commands if directories don't exist\n",
        "if not os.path.exists(mall_dest):\n",
        "    get_ipython().system(f'cp -r \"{mall_source}\" \"{mall_dest}\"')\n",
        "if not os.path.exists(shanghaitech_dest):\n",
        "    get_ipython().system(f'cp -r \"{shanghaitech_source}\" \"{shanghaitech_dest}\"')\n",
        "if not os.path.exists(ucf_qnrf_dest):\n",
        "    get_ipython().system(f'cp -r \"{ucf_qnrf_source}\" \"{ucf_qnrf_dest}\"')\n",
        "\n",
        "print(\"\\nCopying complete! ✅\")\n",
        "\n",
        "# ==============================================================================\n",
        "# SECTION 3: DATA PROCESSING AND CATEGORIZATION (3 CLASSES)\n",
        "# ==============================================================================\n",
        "# --- Part 1: Load MALL Dataset ---\n",
        "print(\"\\nProcessing MALL dataset...\")\n",
        "base_dir_mall = '/content/mall_dataset'\n",
        "mall_frames_dir = os.path.join(base_dir_mall, 'frames')\n",
        "mat_file_path = os.path.join(base_dir_mall, 'mall_gt.mat')\n",
        "mat_data = loadmat(mat_file_path)\n",
        "ground_truth_counts = mat_data['frame'][0]\n",
        "counts = [item[0][0][0] for item in ground_truth_counts]\n",
        "image_files = sorted([f for f in os.listdir(mall_frames_dir) if f.endswith('.jpg')])\n",
        "df_mall = pd.DataFrame({'filepath': [os.path.join(mall_frames_dir, f) for f in image_files], 'count': counts})\n",
        "def get_scalar_count(value):\n",
        "    while hasattr(value, '__len__') and not isinstance(value, str): value = value[0] if len(value) > 0 else 0\n",
        "    return int(value)\n",
        "df_mall['count'] = df_mall['count'].apply(get_scalar_count)\n",
        "print(f\"Loaded {len(df_mall)} images from the MALL dataset.\")\n",
        "\n",
        "# --- Part 2: Load ShanghaiTech Dataset ---\n",
        "print(\"\\nProcessing ShanghaiTech dataset...\")\n",
        "base_dir_shanghai = '/content/shanghaitech_dataset'\n",
        "shanghai_data = []\n",
        "parts_to_process = [os.path.join(base_dir_shanghai, 'part_A'), os.path.join(base_dir_shanghai, 'part_B')]\n",
        "for part_path in parts_to_process:\n",
        "    for data_split in ['train_data', 'test_data']:\n",
        "        split_path = os.path.join(part_path, data_split)\n",
        "        image_dir = os.path.join(split_path, 'images')\n",
        "        gt_dir = os.path.join(split_path, 'ground-truth')\n",
        "        image_paths = glob.glob(os.path.join(image_dir, '*.jpg'))\n",
        "        for img_path in image_paths:\n",
        "            filename = os.path.basename(img_path).replace('.jpg', '.mat').replace('IMG_', 'GT_IMG_')\n",
        "            gt_path = os.path.join(gt_dir, filename)\n",
        "            try:\n",
        "                mat = loadmat(gt_path)\n",
        "                count = len(mat['image_info'][0, 0][0, 0][0])\n",
        "                shanghai_data.append({'filepath': img_path, 'count': count})\n",
        "            except FileNotFoundError: continue\n",
        "df_shanghai = pd.DataFrame(shanghai_data)\n",
        "print(f\"Loaded {len(df_shanghai)} images from the ShanghaiTech dataset.\")\n",
        "\n",
        "# --- Part 3: Load a SUBSET of the UCF-QNRF Dataset ---\n",
        "print(\"\\nProcessing a subset of the UCF-QNRF dataset...\")\n",
        "base_dir_ucf = '/content/ucf_qnrf_dataset'\n",
        "IMAGE_LIMIT = 1000\n",
        "ucf_data = []\n",
        "image_paths_ucf = glob.glob(os.path.join(base_dir_ucf, 'Train', '*.jpg')) + glob.glob(os.path.join(base_dir_ucf, 'Test', '*.jpg'))\n",
        "for img_path in image_paths_ucf:\n",
        "    if len(ucf_data) >= IMAGE_LIMIT:\n",
        "        print(f\"Reached image limit of {IMAGE_LIMIT}. Stopping.\")\n",
        "        break\n",
        "    gt_path = img_path.replace('.jpg', '_ann.mat')\n",
        "    try:\n",
        "        mat = loadmat(gt_path)\n",
        "        count = len(mat['annPoints'])\n",
        "        ucf_data.append({'filepath': img_path, 'count': count})\n",
        "    except FileNotFoundError: continue\n",
        "df_ucf = pd.DataFrame(ucf_data)\n",
        "print(f\"Loaded {len(df_ucf)} images from the UCF-QNRF dataset.\")\n",
        "\n",
        "# --- Part 4: Combine All Datasets and Define 3 Categories ---\n",
        "print(\"\\nCombining all datasets and categorizing into 3 classes...\")\n",
        "def get_final_category(count):\n",
        "    if count <= 75:\n",
        "        return 'Low'\n",
        "    elif count <= 400:\n",
        "        return 'Medium'\n",
        "    else:\n",
        "        return 'High'\n",
        "df_mall['category'] = df_mall['count'].apply(get_final_category)\n",
        "df_shanghai['category'] = df_shanghai['count'].apply(get_final_category)\n",
        "df_ucf['category'] = df_ucf['count'].apply(get_final_category)\n",
        "\n",
        "df = pd.concat([\n",
        "    df_mall[['filepath', 'category']],\n",
        "    df_shanghai[['filepath', 'category']],\n",
        "    df_ucf[['filepath', 'category']]\n",
        "], ignore_index=True)\n",
        "\n",
        "print(f\"\\nTotal combined images: {len(df)}\")\n",
        "print(\"\\nFinal 3-class category distribution:\")\n",
        "print(df['category'].value_counts())\n",
        "\n",
        "# ==============================================================================\n",
        "# SECTION 4: SPLIT DATA AND ORGANIZE FILES\n",
        "# ==============================================================================\n",
        "def copy_files(dataframe, dest_dir):\n",
        "    for index, row in dataframe.iterrows():\n",
        "        src_path = row['filepath']\n",
        "        category = row['category']\n",
        "        # Create a unique filename to prevent clashes between datasets\n",
        "        unique_filename = f\"{index}_{os.path.basename(src_path)}\"\n",
        "        category_dir = os.path.join(dest_dir, category)\n",
        "        os.makedirs(category_dir, exist_ok=True)\n",
        "        dest_path = os.path.join(category_dir, unique_filename)\n",
        "        shutil.copyfile(src_path, dest_path)\n",
        "\n",
        "processed_dir = '/content/processed_images'\n",
        "train_dir = os.path.join(processed_dir, 'train')\n",
        "validation_dir = os.path.join(processed_dir, 'validation')\n",
        "\n",
        "# Clean up previous runs\n",
        "if os.path.exists(processed_dir):\n",
        "    shutil.rmtree(processed_dir)\n",
        "\n",
        "os.makedirs(train_dir)\n",
        "os.makedirs(validation_dir)\n",
        "\n",
        "# Shuffle and split the dataframe\n",
        "df_shuffled = df.sample(frac=1, random_state=42).reset_index(drop=True)\n",
        "split_index = int(len(df_shuffled) * 0.8)\n",
        "train_df = df_shuffled.iloc[:split_index]\n",
        "validation_df = df_shuffled.iloc[split_index:]\n",
        "\n",
        "print(\"\\nCopying training images into class folders...\")\n",
        "copy_files(train_df, train_dir)\n",
        "print(\"Copying validation images into class folders...\")\n",
        "copy_files(validation_df, validation_dir)\n",
        "\n",
        "print(f\"\\nImage organization complete. ✅\")\n",
        "print(f\"Total training images: {len(train_df)}\")\n",
        "print(f\"Total validation images: {len(validation_df)}\")\n",
        "\n",
        "# ==============================================================================\n",
        "# SECTION 5: MODEL DEFINITION (3-CLASS OUTPUT & FINE-TUNING)\n",
        "# ==============================================================================\n",
        "print(\"\\nDefining the model architecture...\")\n",
        "# --- Recommendation 1: Use 224x224 input shape ---\n",
        "IMG_SIZE = 224\n",
        "base_model = MobileNetV2(input_shape=(IMG_SIZE, IMG_SIZE, 3), include_top=False, weights='imagenet')\n",
        "\n",
        "# Enable fine-tuning\n",
        "base_model.trainable = True\n",
        "# --- Recommendation 3: Unfreeze more layers ---\n",
        "for layer in base_model.layers[:-50]:\n",
        "    layer.trainable = False\n",
        "\n",
        "inputs = Input(shape=(IMG_SIZE, IMG_SIZE, 3))\n",
        "x = base_model(inputs, training=True)\n",
        "x = Flatten()(x)\n",
        "x = Dense(256, activation='relu')(x)\n",
        "x = Dropout(0.5)(x)\n",
        "outputs = Dense(3, activation='softmax')(x)\n",
        "\n",
        "model = Model(inputs, outputs)\n",
        "\n",
        "# --- Recommendation 2: Use a slightly higher learning rate for the scheduler ---\n",
        "optimizer = tf.keras.optimizers.Adam(learning_rate=5e-5)\n",
        "model.compile(optimizer=optimizer, loss='categorical_crossentropy', metrics=['accuracy'])\n",
        "model.summary()\n",
        "\n",
        "# Define callbacks to save the best model and stop early\n",
        "model_checkpoint = ModelCheckpoint(\n",
        "    'best_crowd_model_3_classes.h5',\n",
        "    save_best_only=True,\n",
        "    monitor='val_accuracy',\n",
        "    mode='max',\n",
        "    verbose=1\n",
        ")\n",
        "early_stopping = EarlyStopping(\n",
        "    monitor='val_loss',\n",
        "    patience=5,\n",
        "    restore_best_weights=True,\n",
        "    verbose=1\n",
        ")\n",
        "# --- Recommendation 2: Add the learning rate scheduler callback ---\n",
        "reduce_lr = ReduceLROnPlateau(\n",
        "    monitor='val_loss',\n",
        "    factor=0.2,\n",
        "    patience=2,\n",
        "    min_lr=1e-6,\n",
        "    verbose=1\n",
        ")\n",
        "\n",
        "# ==============================================================================\n",
        "# SECTION 6: DATA AUGMENTATION AND GENERATORS\n",
        "# ==============================================================================\n",
        "print(\"\\nSetting up data generators...\")\n",
        "train_datagen = ImageDataGenerator(\n",
        "    rescale=1./255,\n",
        "    rotation_range=30,\n",
        "    width_shift_range=0.1,\n",
        "    height_shift_range=0.1,\n",
        "    shear_range=0.1,\n",
        "    zoom_range=0.1,\n",
        "    horizontal_flip=True,\n",
        "    fill_mode='nearest')\n",
        "\n",
        "validation_datagen = ImageDataGenerator(rescale=1./255)\n",
        "\n",
        "train_generator = train_datagen.flow_from_directory(\n",
        "    train_dir,\n",
        "    target_size=(IMG_SIZE, IMG_SIZE), # Use new image size\n",
        "    batch_size=32,\n",
        "    class_mode='categorical')\n",
        "\n",
        "validation_generator = validation_datagen.flow_from_directory(\n",
        "    validation_dir,\n",
        "    target_size=(IMG_SIZE, IMG_SIZE), # Use new image size\n",
        "    batch_size=32,\n",
        "    class_mode='categorical')\n",
        "\n",
        "print(f\"\\nClass Indices Found: {train_generator.class_indices}\")\n",
        "\n",
        "# ==============================================================================\n",
        "# SECTION 7: MODEL TRAINING\n",
        "# ==============================================================================\n",
        "print(\"\\nStarting model training...\")\n",
        "# Calculate class weights to handle imbalance\n",
        "class_labels = sorted(train_generator.class_indices.keys())\n",
        "y_train_labels = train_generator.classes\n",
        "class_weights_array = class_weight.compute_class_weight('balanced', classes=np.unique(y_train_labels), y=y_train_labels)\n",
        "class_weights = dict(enumerate(class_weights_array))\n",
        "\n",
        "print(f\"Class Labels: {class_labels}\")\n",
        "print(f\"Calculated Class Weights: {class_weights}\")\n",
        "\n",
        "# Set a higher number of epochs; EarlyStopping will find the optimal point\n",
        "epochs = 30\n",
        "\n",
        "history = model.fit(\n",
        "    train_generator,\n",
        "    epochs=epochs,\n",
        "    validation_data=validation_generator,\n",
        "    class_weight=class_weights,\n",
        "    callbacks=[model_checkpoint, early_stopping, reduce_lr], # Add new callback\n",
        "    verbose=1)\n",
        "\n",
        "print(\"\\nTraining finished. The best model was saved as 'best_crowd_model_3_classes.h5' ✅\")\n",
        "\n",
        "# ==============================================================================\n",
        "# SECTION 8: PLOTTING RESULTS\n",
        "# ==============================================================================\n",
        "print(\"\\nPlotting training history...\")\n",
        "acc = history.history['accuracy']\n",
        "val_acc = history.history['val_accuracy']\n",
        "loss = history.history['loss']\n",
        "val_loss = history.history['val_loss']\n",
        "epochs_range = range(len(acc))\n",
        "\n",
        "plt.figure(figsize=(14, 6))\n",
        "plt.subplot(1, 2, 1)\n",
        "plt.plot(epochs_range, acc, label='Training Accuracy')\n",
        "plt.plot(epochs_range, val_acc, label='Validation Accuracy')\n",
        "plt.title('Training and Validation Accuracy')\n",
        "plt.legend(loc='lower right')\n",
        "\n",
        "plt.subplot(1, 2, 2)\n",
        "plt.plot(epochs_range, loss, label='Training Loss')\n",
        "plt.plot(epochs_range, val_loss, label='Validation Loss')\n",
        "plt.title('Training and Validation Loss')\n",
        "plt.legend(loc='upper right')\n",
        "\n",
        "plt.savefig('training_history.png')\n",
        "plt.show()\n",
        "\n",
        "# ==============================================================================\n",
        "# SECTION 9: GRADIO INTERFACE\n",
        "# ==============================================================================\n",
        "print(\"\\nLaunching Gradio Interface...\")\n",
        "\n",
        "# Load the best model that was saved during training\n",
        "model = tf.keras.models.load_model('best_crowd_model_3_classes.h5')\n",
        "\n",
        "# Define the class labels in the order the generator found them\n",
        "# This order comes from train_generator.class_indices\n",
        "class_labels = ['High', 'Low', 'Medium']\n",
        "\n",
        "def predict_crowd_density(input_image):\n",
        "    if input_image is None:\n",
        "        return \"Please upload an image.\"\n",
        "    # Resize to the new image size\n",
        "    img = input_image.resize((IMG_SIZE, IMG_SIZE))\n",
        "    img_array = np.array(img)\n",
        "    img_array = np.expand_dims(img_array, axis=0)\n",
        "    img_array = img_array / 255.0\n",
        "    prediction = model.predict(img_array, verbose=0)[0]\n",
        "    confidences = {label: float(score) for label, score in zip(class_labels, prediction)}\n",
        "    return confidences\n",
        "\n",
        "# Create and launch the Gradio Interface\n",
        "iface = gr.Interface(\n",
        "    fn=predict_crowd_density,\n",
        "    inputs=gr.Image(type=\"pil\", label=\"Upload a Crowd Image\"),\n",
        "    outputs=gr.Label(num_top_classes=3, label=\"Prediction Result\"),\n",
        "    title=\"Crowd Monitoring System (3 Classes)\",\n",
        "    description=\"This model classifies crowd density into Low, Medium, or High categories.\",\n",
        ")\n",
        "\n",
        "iface.launch(share=True, debug=True)"
      ]
    }
  ]
}