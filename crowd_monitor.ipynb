{
  "cells": [
    {
      "cell_type": "code",
      "execution_count": null,
      "metadata": {
        "colab": {
          "base_uri": "https://localhost:8080/"
        },
        "id": "Z-7pJ_b-MyVk",
        "outputId": "0a6e7658-cfab-4c21-879e-0c9ca8bf43c7"
      },
      "outputs": [
        {
          "output_type": "stream",
          "name": "stdout",
          "text": [
            "All libraries imported successfully.\n"
          ]
        }
      ],
      "source": [
        "import os\n",
        "import shutil\n",
        "import glob\n",
        "import numpy as np\n",
        "import pandas as pd\n",
        "from scipy.io import loadmat\n",
        "import cv2\n",
        "import tensorflow as tf\n",
        "from tensorflow.keras.applications import MobileNetV2\n",
        "from tensorflow.keras.layers import Input, Flatten, Dense, Dropout\n",
        "from tensorflow.keras.models import Model\n",
        "from tensorflow.keras.preprocessing.image import ImageDataGenerator\n",
        "import matplotlib.pyplot as plt\n",
        "import gradio as gr\n",
        "from PIL import Image\n",
        "from sklearn.utils import class_weight\n",
        "\n",
        "print(\"All libraries imported successfully.\")"
      ]
    },
    {
      "cell_type": "code",
      "source": [
        "import os\n",
        "\n",
        "print(\"Mounting Google Drive...\")\n",
        "from google.colab import drive\n",
        "drive.mount('/content/drive', force_remount=True)\n",
        "\n",
        "print(\"\\nCopying datasets from Google Drive to Colab local storage...\")\n",
        "print(\"This will take several minutes but will make processing much faster.\")\n",
        "\n",
        "# Define source paths in your Google Drive\n",
        "mall_source = '/content/drive/MyDrive/mini_project/dataset/mall_dataset'\n",
        "shanghaitech_source = '/content/drive/MyDrive/mini_project/dataset/shanghaitech_dataset/ShanghaiTech'\n",
        "ucf_qnrf_source = '/content/drive/MyDrive/mini_project/dataset/ucf_qnrf_dataset/UCF-QNRF_ECCV18'\n",
        "\n",
        "# Define destination paths in Colab's local environment\n",
        "mall_dest = '/content/mall_dataset'\n",
        "shanghaitech_dest = '/content/shanghaitech_dataset'\n",
        "ucf_qnrf_dest = '/content/ucf_qnrf_dataset'\n",
        "\n",
        "# Execute the copy commands\n",
        "!cp -r \"{mall_source}\" \"{mall_dest}\"\n",
        "!cp -r \"{shanghaitech_source}\" \"{shanghaitech_dest}\"\n",
        "!cp -r \"{ucf_qnrf_source}\" \"{ucf_qnrf_dest}\"\n",
        "\n",
        "print(\"\\nCopying complete! ✅\")"
      ],
      "metadata": {
        "colab": {
          "base_uri": "https://localhost:8080/"
        },
        "id": "FQxV86QYdX8G",
        "outputId": "8096e3fd-8447-47b3-8914-634166b34daa"
      },
      "execution_count": null,
      "outputs": [
        {
          "output_type": "stream",
          "name": "stdout",
          "text": [
            "Mounting Google Drive...\n",
            "Mounted at /content/drive\n",
            "\n",
            "Copying datasets from Google Drive to Colab local storage...\n",
            "This will take several minutes but will make processing much faster.\n",
            "\n",
            "Copying complete! ✅\n"
          ]
        }
      ]
    },
    {
      "cell_type": "code",
      "source": [
        "# --- Part 1: Load and Label the MALL Dataset from LOCAL COPY ---\n",
        "print(\"Processing MALL dataset...\")\n",
        "base_dir_mall = '/content/mall_dataset'\n",
        "mall_frames_dir = os.path.join(base_dir_mall, 'frames')\n",
        "mat_file_path = os.path.join(base_dir_mall, 'mall_gt.mat')\n",
        "mat_data = loadmat(mat_file_path)\n",
        "ground_truth_counts = mat_data['frame'][0]\n",
        "counts = [item[0][0][0] for item in ground_truth_counts]\n",
        "image_files = sorted([f for f in os.listdir(mall_frames_dir) if f.endswith('.jpg')])\n",
        "df_mall = pd.DataFrame({'filepath': [os.path.join(mall_frames_dir, f) for f in image_files], 'count': counts})\n",
        "def get_scalar_count(value):\n",
        "    while hasattr(value, '__len__') and not isinstance(value, str): value = value[0] if len(value) > 0 else 0\n",
        "    return int(value)\n",
        "df_mall['count'] = df_mall['count'].apply(get_scalar_count)\n",
        "print(f\"Loaded {len(df_mall)} images from the MALL dataset.\")\n",
        "\n",
        "# --- Part 2: Load and Label the ShanghaiTech Dataset from LOCAL COPY ---\n",
        "print(\"\\nProcessing ShanghaiTech dataset...\")\n",
        "base_dir_shanghai = '/content/shanghaitech_dataset'\n",
        "shanghai_data = []\n",
        "parts_to_process = [os.path.join(base_dir_shanghai, 'part_A'), os.path.join(base_dir_shanghai, 'part_B')]\n",
        "for part_path in parts_to_process:\n",
        "    for data_split in ['train_data', 'test_data']:\n",
        "        split_path = os.path.join(part_path, data_split)\n",
        "        image_dir = os.path.join(split_path, 'images')\n",
        "        gt_dir = os.path.join(split_path, 'ground-truth')\n",
        "        image_paths = glob.glob(os.path.join(image_dir, '*.jpg'))\n",
        "        for img_path in image_paths:\n",
        "            filename = os.path.basename(img_path).replace('.jpg', '.mat').replace('IMG_', 'GT_IMG_')\n",
        "            gt_path = os.path.join(gt_dir, filename)\n",
        "            try:\n",
        "                mat = loadmat(gt_path)\n",
        "                count = len(mat['image_info'][0, 0][0, 0][0])\n",
        "                shanghai_data.append({'filepath': img_path, 'count': count})\n",
        "            except FileNotFoundError: continue\n",
        "df_shanghai = pd.DataFrame(shanghai_data)\n",
        "print(f\"Loaded and labeled {len(df_shanghai)} images from the ShanghaiTech dataset.\")\n",
        "\n",
        "# --- Part 3: Load and Label a SUBSET of the UCF-QNRF Dataset from LOCAL COPY ---\n",
        "print(\"\\nProcessing a subset of the UCF-QNRF dataset...\")\n",
        "base_dir_ucf = '/content/ucf_qnrf_dataset'\n",
        "IMAGE_LIMIT = 1000\n",
        "ucf_data = []\n",
        "image_paths_ucf = glob.glob(os.path.join(base_dir_ucf, 'Train', '*.jpg')) + \\\n",
        "                  glob.glob(os.path.join(base_dir_ucf, 'Test', '*.jpg'))\n",
        "for img_path in image_paths_ucf:\n",
        "    if len(ucf_data) >= IMAGE_LIMIT:\n",
        "        print(f\"Reached image limit of {IMAGE_LIMIT}. Stopping.\")\n",
        "        break\n",
        "    gt_path = img_path.replace('.jpg', '_ann.mat')\n",
        "    try:\n",
        "        mat = loadmat(gt_path)\n",
        "        count = len(mat['annPoints'])\n",
        "        ucf_data.append({'filepath': img_path, 'count': count})\n",
        "    except FileNotFoundError: continue\n",
        "df_ucf = pd.DataFrame(ucf_data)\n",
        "print(f\"Loaded and labeled {len(df_ucf)} images from the UCF-QNRF dataset.\")\n",
        "\n",
        "# --- Part 4: Combine All Three and Use Refined Categories ---\n",
        "print(\"\\nCombining all datasets...\")\n",
        "def get_final_category(count):\n",
        "    if count <= 10: return 'Very_Low'\n",
        "    elif count <= 75: return 'Low'\n",
        "    elif count <= 400: return 'Medium'\n",
        "    else: return 'High'\n",
        "df_mall['category'] = df_mall['count'].apply(get_final_category)\n",
        "df_shanghai['category'] = df_shanghai['count'].apply(get_final_category)\n",
        "df_ucf['category'] = df_ucf['count'].apply(get_final_category)\n",
        "df = pd.concat([\n",
        "    df_mall[['filepath', 'category']],\n",
        "    df_shanghai[['filepath', 'category']],\n",
        "    df_ucf[['filepath', 'category']]\n",
        "], ignore_index=True)\n",
        "print(f\"\\nTotal combined images: {len(df)}\")\n",
        "print(\"\\nFinal category distribution:\")\n",
        "print(df['category'].value_counts())"
      ],
      "metadata": {
        "colab": {
          "base_uri": "https://localhost:8080/"
        },
        "id": "ITYVepFhfTbe",
        "outputId": "8a2b7911-a31a-4211-af07-d3a64edeb1f5"
      },
      "execution_count": null,
      "outputs": [
        {
          "output_type": "stream",
          "name": "stdout",
          "text": [
            "Processing MALL dataset...\n",
            "Loaded 2000 images from the MALL dataset.\n",
            "\n",
            "Processing ShanghaiTech dataset...\n",
            "Loaded and labeled 1198 images from the ShanghaiTech dataset.\n",
            "\n",
            "Processing a subset of the UCF-QNRF dataset...\n",
            "Reached image limit of 1000. Stopping.\n",
            "Loaded and labeled 1000 images from the UCF-QNRF dataset.\n",
            "\n",
            "Combining all datasets...\n",
            "\n",
            "Total combined images: 4198\n",
            "\n",
            "Final category distribution:\n",
            "category\n",
            "Medium      2785\n",
            "High         794\n",
            "Low          566\n",
            "Very_Low      53\n",
            "Name: count, dtype: int64\n"
          ]
        }
      ]
    },
    {
      "cell_type": "code",
      "source": [
        "def copy_files(dataframe, dest_dir):\n",
        "    for index, row in dataframe.iterrows():\n",
        "        src_path = row['filepath']\n",
        "        filename = os.path.basename(src_path)\n",
        "        unique_filename = f\"{index}_{filename}\"\n",
        "        dest_path = os.path.join(dest_dir, row['category'], unique_filename)\n",
        "        os.makedirs(os.path.join(dest_dir, row['category']), exist_ok=True)\n",
        "        shutil.copyfile(src_path, dest_path)\n",
        "\n",
        "processed_dir = '/content/processed_images'\n",
        "train_dir = os.path.join(processed_dir, 'train')\n",
        "validation_dir = os.path.join(processed_dir, 'validation')\n",
        "\n",
        "if os.path.exists(processed_dir):\n",
        "    shutil.rmtree(processed_dir)\n",
        "os.makedirs(train_dir)\n",
        "os.makedirs(validation_dir)\n",
        "\n",
        "df_shuffled = df.sample(frac=1, random_state=42).reset_index(drop=True)\n",
        "split_index = int(len(df_shuffled) * 0.8)\n",
        "train_df = df_shuffled.iloc[:split_index]\n",
        "validation_df = df_shuffled.iloc[split_index:]\n",
        "\n",
        "print(\"Copying training images... This may take a few minutes.\")\n",
        "copy_files(train_df, train_dir)\n",
        "print(\"Copying validation images...\")\n",
        "copy_files(validation_df, validation_dir)\n",
        "print(\"\\nImages have been successfully organized. ✅\")\n",
        "print(f\"Total training images: {len(train_df)}\")\n",
        "print(f\"Total validation images: {len(validation_df)}\")"
      ],
      "metadata": {
        "colab": {
          "base_uri": "https://localhost:8080/"
        },
        "id": "ue_fddNffeGU",
        "outputId": "ba3345ca-d73d-4fe0-e36d-9bb5d8d16125"
      },
      "execution_count": null,
      "outputs": [
        {
          "output_type": "stream",
          "name": "stdout",
          "text": [
            "Copying training images... This may take a few minutes.\n",
            "Copying validation images...\n",
            "\n",
            "Images have been successfully organized. ✅\n",
            "Total training images: 3358\n",
            "Total validation images: 840\n"
          ]
        }
      ]
    },
    {
      "cell_type": "code",
      "source": [
        "base_model = MobileNetV2(input_shape=(150, 150, 3), include_top=False, weights='imagenet')\n",
        "base_model.trainable = False\n",
        "\n",
        "inputs = Input(shape=(150, 150, 3))\n",
        "x = base_model(inputs, training=False)\n",
        "x = Flatten()(x)\n",
        "x = Dense(512, activation='relu')(x)\n",
        "x = Dropout(0.5)(x)\n",
        "outputs = Dense(4, activation='softmax')(x)\n",
        "\n",
        "model = Model(inputs, outputs)\n",
        "model.compile(optimizer='adam', loss='categorical_crossentropy', metrics=['accuracy'])\n",
        "model.summary()"
      ],
      "metadata": {
        "colab": {
          "base_uri": "https://localhost:8080/",
          "height": 446
        },
        "id": "Qn_WsizefuHW",
        "outputId": "7b751aca-f270-4be6-ad0a-12cacc2d3dd0"
      },
      "execution_count": null,
      "outputs": [
        {
          "output_type": "stream",
          "name": "stderr",
          "text": [
            "/tmp/ipython-input-558431783.py:1: UserWarning: `input_shape` is undefined or non-square, or `rows` is not in [96, 128, 160, 192, 224]. Weights for input shape (224, 224) will be loaded as the default.\n",
            "  base_model = MobileNetV2(input_shape=(150, 150, 3), include_top=False, weights='imagenet')\n"
          ]
        },
        {
          "output_type": "stream",
          "name": "stdout",
          "text": [
            "Downloading data from https://storage.googleapis.com/tensorflow/keras-applications/mobilenet_v2/mobilenet_v2_weights_tf_dim_ordering_tf_kernels_1.0_224_no_top.h5\n",
            "\u001b[1m9406464/9406464\u001b[0m \u001b[32m━━━━━━━━━━━━━━━━━━━━\u001b[0m\u001b[37m\u001b[0m \u001b[1m0s\u001b[0m 0us/step\n"
          ]
        },
        {
          "output_type": "display_data",
          "data": {
            "text/plain": [
              "\u001b[1mModel: \"functional\"\u001b[0m\n"
            ],
            "text/html": [
              "<pre style=\"white-space:pre;overflow-x:auto;line-height:normal;font-family:Menlo,'DejaVu Sans Mono',consolas,'Courier New',monospace\"><span style=\"font-weight: bold\">Model: \"functional\"</span>\n",
              "</pre>\n"
            ]
          },
          "metadata": {}
        },
        {
          "output_type": "display_data",
          "data": {
            "text/plain": [
              "┏━━━━━━━━━━━━━━━━━━━━━━━━━━━━━━━━━┳━━━━━━━━━━━━━━━━━━━━━━━━┳━━━━━━━━━━━━━━━┓\n",
              "┃\u001b[1m \u001b[0m\u001b[1mLayer (type)                   \u001b[0m\u001b[1m \u001b[0m┃\u001b[1m \u001b[0m\u001b[1mOutput Shape          \u001b[0m\u001b[1m \u001b[0m┃\u001b[1m \u001b[0m\u001b[1m      Param #\u001b[0m\u001b[1m \u001b[0m┃\n",
              "┡━━━━━━━━━━━━━━━━━━━━━━━━━━━━━━━━━╇━━━━━━━━━━━━━━━━━━━━━━━━╇━━━━━━━━━━━━━━━┩\n",
              "│ input_layer_1 (\u001b[38;5;33mInputLayer\u001b[0m)      │ (\u001b[38;5;45mNone\u001b[0m, \u001b[38;5;34m150\u001b[0m, \u001b[38;5;34m150\u001b[0m, \u001b[38;5;34m3\u001b[0m)    │             \u001b[38;5;34m0\u001b[0m │\n",
              "├─────────────────────────────────┼────────────────────────┼───────────────┤\n",
              "│ mobilenetv2_1.00_224            │ (\u001b[38;5;45mNone\u001b[0m, \u001b[38;5;34m5\u001b[0m, \u001b[38;5;34m5\u001b[0m, \u001b[38;5;34m1280\u001b[0m)     │     \u001b[38;5;34m2,257,984\u001b[0m │\n",
              "│ (\u001b[38;5;33mFunctional\u001b[0m)                    │                        │               │\n",
              "├─────────────────────────────────┼────────────────────────┼───────────────┤\n",
              "│ flatten (\u001b[38;5;33mFlatten\u001b[0m)               │ (\u001b[38;5;45mNone\u001b[0m, \u001b[38;5;34m32000\u001b[0m)          │             \u001b[38;5;34m0\u001b[0m │\n",
              "├─────────────────────────────────┼────────────────────────┼───────────────┤\n",
              "│ dense (\u001b[38;5;33mDense\u001b[0m)                   │ (\u001b[38;5;45mNone\u001b[0m, \u001b[38;5;34m512\u001b[0m)            │    \u001b[38;5;34m16,384,512\u001b[0m │\n",
              "├─────────────────────────────────┼────────────────────────┼───────────────┤\n",
              "│ dropout (\u001b[38;5;33mDropout\u001b[0m)               │ (\u001b[38;5;45mNone\u001b[0m, \u001b[38;5;34m512\u001b[0m)            │             \u001b[38;5;34m0\u001b[0m │\n",
              "├─────────────────────────────────┼────────────────────────┼───────────────┤\n",
              "│ dense_1 (\u001b[38;5;33mDense\u001b[0m)                 │ (\u001b[38;5;45mNone\u001b[0m, \u001b[38;5;34m4\u001b[0m)              │         \u001b[38;5;34m2,052\u001b[0m │\n",
              "└─────────────────────────────────┴────────────────────────┴───────────────┘\n"
            ],
            "text/html": [
              "<pre style=\"white-space:pre;overflow-x:auto;line-height:normal;font-family:Menlo,'DejaVu Sans Mono',consolas,'Courier New',monospace\">┏━━━━━━━━━━━━━━━━━━━━━━━━━━━━━━━━━┳━━━━━━━━━━━━━━━━━━━━━━━━┳━━━━━━━━━━━━━━━┓\n",
              "┃<span style=\"font-weight: bold\"> Layer (type)                    </span>┃<span style=\"font-weight: bold\"> Output Shape           </span>┃<span style=\"font-weight: bold\">       Param # </span>┃\n",
              "┡━━━━━━━━━━━━━━━━━━━━━━━━━━━━━━━━━╇━━━━━━━━━━━━━━━━━━━━━━━━╇━━━━━━━━━━━━━━━┩\n",
              "│ input_layer_1 (<span style=\"color: #0087ff; text-decoration-color: #0087ff\">InputLayer</span>)      │ (<span style=\"color: #00d7ff; text-decoration-color: #00d7ff\">None</span>, <span style=\"color: #00af00; text-decoration-color: #00af00\">150</span>, <span style=\"color: #00af00; text-decoration-color: #00af00\">150</span>, <span style=\"color: #00af00; text-decoration-color: #00af00\">3</span>)    │             <span style=\"color: #00af00; text-decoration-color: #00af00\">0</span> │\n",
              "├─────────────────────────────────┼────────────────────────┼───────────────┤\n",
              "│ mobilenetv2_1.00_224            │ (<span style=\"color: #00d7ff; text-decoration-color: #00d7ff\">None</span>, <span style=\"color: #00af00; text-decoration-color: #00af00\">5</span>, <span style=\"color: #00af00; text-decoration-color: #00af00\">5</span>, <span style=\"color: #00af00; text-decoration-color: #00af00\">1280</span>)     │     <span style=\"color: #00af00; text-decoration-color: #00af00\">2,257,984</span> │\n",
              "│ (<span style=\"color: #0087ff; text-decoration-color: #0087ff\">Functional</span>)                    │                        │               │\n",
              "├─────────────────────────────────┼────────────────────────┼───────────────┤\n",
              "│ flatten (<span style=\"color: #0087ff; text-decoration-color: #0087ff\">Flatten</span>)               │ (<span style=\"color: #00d7ff; text-decoration-color: #00d7ff\">None</span>, <span style=\"color: #00af00; text-decoration-color: #00af00\">32000</span>)          │             <span style=\"color: #00af00; text-decoration-color: #00af00\">0</span> │\n",
              "├─────────────────────────────────┼────────────────────────┼───────────────┤\n",
              "│ dense (<span style=\"color: #0087ff; text-decoration-color: #0087ff\">Dense</span>)                   │ (<span style=\"color: #00d7ff; text-decoration-color: #00d7ff\">None</span>, <span style=\"color: #00af00; text-decoration-color: #00af00\">512</span>)            │    <span style=\"color: #00af00; text-decoration-color: #00af00\">16,384,512</span> │\n",
              "├─────────────────────────────────┼────────────────────────┼───────────────┤\n",
              "│ dropout (<span style=\"color: #0087ff; text-decoration-color: #0087ff\">Dropout</span>)               │ (<span style=\"color: #00d7ff; text-decoration-color: #00d7ff\">None</span>, <span style=\"color: #00af00; text-decoration-color: #00af00\">512</span>)            │             <span style=\"color: #00af00; text-decoration-color: #00af00\">0</span> │\n",
              "├─────────────────────────────────┼────────────────────────┼───────────────┤\n",
              "│ dense_1 (<span style=\"color: #0087ff; text-decoration-color: #0087ff\">Dense</span>)                 │ (<span style=\"color: #00d7ff; text-decoration-color: #00d7ff\">None</span>, <span style=\"color: #00af00; text-decoration-color: #00af00\">4</span>)              │         <span style=\"color: #00af00; text-decoration-color: #00af00\">2,052</span> │\n",
              "└─────────────────────────────────┴────────────────────────┴───────────────┘\n",
              "</pre>\n"
            ]
          },
          "metadata": {}
        },
        {
          "output_type": "display_data",
          "data": {
            "text/plain": [
              "\u001b[1m Total params: \u001b[0m\u001b[38;5;34m18,644,548\u001b[0m (71.12 MB)\n"
            ],
            "text/html": [
              "<pre style=\"white-space:pre;overflow-x:auto;line-height:normal;font-family:Menlo,'DejaVu Sans Mono',consolas,'Courier New',monospace\"><span style=\"font-weight: bold\"> Total params: </span><span style=\"color: #00af00; text-decoration-color: #00af00\">18,644,548</span> (71.12 MB)\n",
              "</pre>\n"
            ]
          },
          "metadata": {}
        },
        {
          "output_type": "display_data",
          "data": {
            "text/plain": [
              "\u001b[1m Trainable params: \u001b[0m\u001b[38;5;34m16,386,564\u001b[0m (62.51 MB)\n"
            ],
            "text/html": [
              "<pre style=\"white-space:pre;overflow-x:auto;line-height:normal;font-family:Menlo,'DejaVu Sans Mono',consolas,'Courier New',monospace\"><span style=\"font-weight: bold\"> Trainable params: </span><span style=\"color: #00af00; text-decoration-color: #00af00\">16,386,564</span> (62.51 MB)\n",
              "</pre>\n"
            ]
          },
          "metadata": {}
        },
        {
          "output_type": "display_data",
          "data": {
            "text/plain": [
              "\u001b[1m Non-trainable params: \u001b[0m\u001b[38;5;34m2,257,984\u001b[0m (8.61 MB)\n"
            ],
            "text/html": [
              "<pre style=\"white-space:pre;overflow-x:auto;line-height:normal;font-family:Menlo,'DejaVu Sans Mono',consolas,'Courier New',monospace\"><span style=\"font-weight: bold\"> Non-trainable params: </span><span style=\"color: #00af00; text-decoration-color: #00af00\">2,257,984</span> (8.61 MB)\n",
              "</pre>\n"
            ]
          },
          "metadata": {}
        }
      ]
    },
    {
      "cell_type": "code",
      "source": [
        "train_datagen = ImageDataGenerator(\n",
        "    rescale=1./255,\n",
        "    rotation_range=30,\n",
        "    width_shift_range=0.1,\n",
        "    height_shift_range=0.1,\n",
        "    shear_range=0.1,\n",
        "    zoom_range=0.1,\n",
        "    horizontal_flip=True,\n",
        "    fill_mode='nearest')\n",
        "validation_datagen = ImageDataGenerator(rescale=1./255)\n",
        "train_generator = train_datagen.flow_from_directory(\n",
        "    train_dir,\n",
        "    target_size=(150, 150),\n",
        "    batch_size=32,\n",
        "    class_mode='categorical')\n",
        "validation_generator = validation_datagen.flow_from_directory(\n",
        "    validation_dir,\n",
        "    target_size=(150, 150),\n",
        "    batch_size=32,\n",
        "    class_mode='categorical')\n",
        "print(\"\\nClass Indices:\", train_generator.class_indices)"
      ],
      "metadata": {
        "colab": {
          "base_uri": "https://localhost:8080/"
        },
        "id": "ZD9rp7W1gQls",
        "outputId": "1392f6f2-baec-4fcd-c6f8-d55acd82a277"
      },
      "execution_count": null,
      "outputs": [
        {
          "output_type": "stream",
          "name": "stdout",
          "text": [
            "Found 3358 images belonging to 4 classes.\n",
            "Found 840 images belonging to 4 classes.\n",
            "\n",
            "Class Indices: {'High': 0, 'Low': 1, 'Medium': 2, 'Very_Low': 3}\n"
          ]
        }
      ]
    },
    {
      "cell_type": "code",
      "source": [
        "class_labels = sorted(train_generator.class_indices.keys())\n",
        "y_train_labels = train_generator.classes\n",
        "class_weights_array = class_weight.compute_class_weight('balanced', classes=np.unique(y_train_labels), y=y_train_labels)\n",
        "class_weights = dict(enumerate(class_weights_array))\n",
        "print(f\"Class Labels: {class_labels}\")\n",
        "print(f\"Calculated Class Weights: {class_weights}\")\n",
        "\n",
        "epochs = 15\n",
        "history = model.fit(\n",
        "    train_generator,\n",
        "    epochs=epochs,\n",
        "    validation_data=validation_generator,\n",
        "    class_weight=class_weights,\n",
        "    verbose=1)\n",
        "\n",
        "model.save('final_crowd_model.h5')\n",
        "print(\"\\nFinal model saved as final_crowd_model.h5\")"
      ],
      "metadata": {
        "id": "Wg49qu_GgXuZ",
        "colab": {
          "base_uri": "https://localhost:8080/"
        },
        "outputId": "27251e37-d4b7-4894-b5b2-bef536a8efc8"
      },
      "execution_count": null,
      "outputs": [
        {
          "output_type": "stream",
          "name": "stdout",
          "text": [
            "Class Labels: ['High', 'Low', 'Medium', 'Very_Low']\n",
            "Calculated Class Weights: {0: np.float64(1.3015503875968992), 1: np.float64(1.8697104677060135), 2: np.float64(0.3783235691753042), 3: np.float64(18.655555555555555)}\n"
          ]
        },
        {
          "output_type": "stream",
          "name": "stderr",
          "text": [
            "/usr/local/lib/python3.12/dist-packages/keras/src/trainers/data_adapters/py_dataset_adapter.py:121: UserWarning: Your `PyDataset` class should call `super().__init__(**kwargs)` in its constructor. `**kwargs` can include `workers`, `use_multiprocessing`, `max_queue_size`. Do not pass these arguments to `fit()`, as they will be ignored.\n",
            "  self._warn_if_super_not_called()\n"
          ]
        },
        {
          "output_type": "stream",
          "name": "stdout",
          "text": [
            "Epoch 1/15\n",
            "\u001b[1m105/105\u001b[0m \u001b[32m━━━━━━━━━━━━━━━━━━━━\u001b[0m\u001b[37m\u001b[0m \u001b[1m214s\u001b[0m 2s/step - accuracy: 0.4388 - loss: 27.1049 - val_accuracy: 0.4655 - val_loss: 1.4430\n",
            "Epoch 2/15\n",
            "\u001b[1m105/105\u001b[0m \u001b[32m━━━━━━━━━━━━━━━━━━━━\u001b[0m\u001b[37m\u001b[0m \u001b[1m201s\u001b[0m 2s/step - accuracy: 0.3842 - loss: 1.4296 - val_accuracy: 0.5631 - val_loss: 1.0923\n",
            "Epoch 3/15\n",
            "\u001b[1m105/105\u001b[0m \u001b[32m━━━━━━━━━━━━━━━━━━━━\u001b[0m\u001b[37m\u001b[0m \u001b[1m207s\u001b[0m 2s/step - accuracy: 0.3220 - loss: 1.0171 - val_accuracy: 0.5429 - val_loss: 0.9951\n",
            "Epoch 4/15\n",
            "\u001b[1m105/105\u001b[0m \u001b[32m━━━━━━━━━━━━━━━━━━━━\u001b[0m\u001b[37m\u001b[0m \u001b[1m200s\u001b[0m 2s/step - accuracy: 0.3253 - loss: 0.9933 - val_accuracy: 0.3440 - val_loss: 1.1574\n",
            "Epoch 5/15\n",
            "\u001b[1m105/105\u001b[0m \u001b[32m━━━━━━━━━━━━━━━━━━━━\u001b[0m\u001b[37m\u001b[0m \u001b[1m208s\u001b[0m 2s/step - accuracy: 0.3394 - loss: 0.9311 - val_accuracy: 0.5940 - val_loss: 0.9006\n",
            "Epoch 6/15\n",
            "\u001b[1m105/105\u001b[0m \u001b[32m━━━━━━━━━━━━━━━━━━━━\u001b[0m\u001b[37m\u001b[0m \u001b[1m209s\u001b[0m 2s/step - accuracy: 0.3071 - loss: 0.9126 - val_accuracy: 0.3310 - val_loss: 1.0327\n",
            "Epoch 7/15\n",
            "\u001b[1m105/105\u001b[0m \u001b[32m━━━━━━━━━━━━━━━━━━━━\u001b[0m\u001b[37m\u001b[0m \u001b[1m253s\u001b[0m 2s/step - accuracy: 0.3386 - loss: 0.8429 - val_accuracy: 0.3369 - val_loss: 1.1122\n",
            "Epoch 8/15\n",
            "\u001b[1m105/105\u001b[0m \u001b[32m━━━━━━━━━━━━━━━━━━━━\u001b[0m\u001b[37m\u001b[0m \u001b[1m206s\u001b[0m 2s/step - accuracy: 0.3506 - loss: 1.0006 - val_accuracy: 0.3440 - val_loss: 1.1658\n",
            "Epoch 9/15\n",
            "\u001b[1m105/105\u001b[0m \u001b[32m━━━━━━━━━━━━━━━━━━━━\u001b[0m\u001b[37m\u001b[0m \u001b[1m206s\u001b[0m 2s/step - accuracy: 0.3316 - loss: 0.9818 - val_accuracy: 0.3655 - val_loss: 1.1376\n",
            "Epoch 10/15\n",
            "\u001b[1m105/105\u001b[0m \u001b[32m━━━━━━━━━━━━━━━━━━━━\u001b[0m\u001b[37m\u001b[0m \u001b[1m253s\u001b[0m 2s/step - accuracy: 0.3599 - loss: 0.9375 - val_accuracy: 0.3119 - val_loss: 1.1064\n",
            "Epoch 11/15\n",
            "\u001b[1m105/105\u001b[0m \u001b[32m━━━━━━━━━━━━━━━━━━━━\u001b[0m\u001b[37m\u001b[0m \u001b[1m211s\u001b[0m 2s/step - accuracy: 0.3107 - loss: 0.9867 - val_accuracy: 0.3726 - val_loss: 1.0082\n",
            "Epoch 12/15\n",
            "\u001b[1m105/105\u001b[0m \u001b[32m━━━━━━━━━━━━━━━━━━━━\u001b[0m\u001b[37m\u001b[0m \u001b[1m250s\u001b[0m 2s/step - accuracy: 0.3228 - loss: 1.0222 - val_accuracy: 0.3131 - val_loss: 1.0693\n",
            "Epoch 13/15\n",
            "\u001b[1m105/105\u001b[0m \u001b[32m━━━━━━━━━━━━━━━━━━━━\u001b[0m\u001b[37m\u001b[0m \u001b[1m198s\u001b[0m 2s/step - accuracy: 0.3228 - loss: 0.8910 - val_accuracy: 0.3369 - val_loss: 1.1460\n",
            "Epoch 14/15\n",
            "\u001b[1m105/105\u001b[0m \u001b[32m━━━━━━━━━━━━━━━━━━━━\u001b[0m\u001b[37m\u001b[0m \u001b[1m212s\u001b[0m 2s/step - accuracy: 0.3281 - loss: 1.0156 - val_accuracy: 0.3440 - val_loss: 1.1148\n",
            "Epoch 15/15\n",
            "\u001b[1m105/105\u001b[0m \u001b[32m━━━━━━━━━━━━━━━━━━━━\u001b[0m\u001b[37m\u001b[0m \u001b[1m201s\u001b[0m 2s/step - accuracy: 0.3340 - loss: 1.0050 - val_accuracy: 0.3310 - val_loss: 1.1272\n"
          ]
        },
        {
          "output_type": "stream",
          "name": "stderr",
          "text": [
            "WARNING:absl:You are saving your model as an HDF5 file via `model.save()` or `keras.saving.save_model(model)`. This file format is considered legacy. We recommend using instead the native Keras format, e.g. `model.save('my_model.keras')` or `keras.saving.save_model(model, 'my_model.keras')`. \n"
          ]
        },
        {
          "output_type": "stream",
          "name": "stdout",
          "text": [
            "\n",
            "Final model saved as final_crowd_model.h5\n"
          ]
        }
      ]
    },
    {
      "cell_type": "code",
      "source": [
        "acc = history.history['accuracy']\n",
        "val_acc = history.history['val_accuracy']\n",
        "loss = history.history['loss']\n",
        "val_loss = history.history['val_loss']\n",
        "epochs_range = range(len(acc))\n",
        "\n",
        "plt.figure(figsize=(12, 5))\n",
        "plt.subplot(1, 2, 1)\n",
        "plt.plot(epochs_range, acc, 'r', label='Training Accuracy')\n",
        "plt.plot(epochs_range, val_acc, 'b', label='Validation Accuracy')\n",
        "plt.title('Training and Validation Accuracy')\n",
        "plt.legend(loc='lower right')\n",
        "plt.subplot(1, 2, 2)\n",
        "plt.plot(epochs_range, loss, 'r', label='Training Loss')\n",
        "plt.plot(epochs_range, val_loss, 'b', label='Validation Loss')\n",
        "plt.title('Training and Validation Loss')\n",
        "plt.legend(loc='upper right')\n",
        "plt.show()"
      ],
      "metadata": {
        "colab": {
          "base_uri": "https://localhost:8080/",
          "height": 428
        },
        "id": "V8tOwjNe_984",
        "outputId": "3245ab57-0fd0-4e8c-e92b-682b4ff1bbb0"
      },
      "execution_count": null,
      "outputs": [
        {
          "output_type": "display_data",
          "data": {
            "text/plain": [
              "<Figure size 1200x500 with 2 Axes>"
            ],
            "image/png": "[encoded data removed]"
          },
          "metadata": {}
        }
      ]
    },
    {
      "cell_type": "code",
      "source": [
        "import os\n",
        "from google.colab import files\n",
        "\n",
        "# Create a folder for the example images\n",
        "os.makedirs(\"examples\", exist_ok=True)\n",
        "\n",
        "print(\"Please upload your four renamed example images (very_low_example.jpg, etc.):\")\n",
        "\n",
        "# Upload the files into the session\n",
        "# When the 'Choose Files' button appears, select all four of your images\n",
        "uploaded = files.upload()\n",
        "\n",
        "# Move the uploaded files into the 'examples' folder\n",
        "for filename in uploaded.keys():\n",
        "    !mv \"{filename}\" \"examples/\"\n",
        "\n",
        "print(\"\\nExample images uploaded successfully! ✅\")"
      ],
      "metadata": {
        "colab": {
          "base_uri": "https://localhost:8080/",
          "height": 229
        },
        "id": "g87TI87mAHvn",
        "outputId": "92c5633d-cb0a-491d-941b-1e8f31201be2"
      },
      "execution_count": null,
      "outputs": [
        {
          "output_type": "stream",
          "name": "stdout",
          "text": [
            "Please upload your four renamed example images (very_low_example.jpg, etc.):\n"
          ]
        },
        {
          "output_type": "display_data",
          "data": {
            "text/plain": [
              "<IPython.core.display.HTML object>"
            ],
            "text/html": [
              "\n",
              "     <input type=\"file\" id=\"files-a470f1da-dc14-436f-9c60-15e32ed26b4e\" name=\"files[]\" multiple disabled\n",
              "        style=\"border:none\" />\n",
              "     <output id=\"result-a470f1da-dc14-436f-9c60-15e32ed26b4e\">\n",
              "      Upload widget is only available when the cell has been executed in the\n",
              "      current browser session. Please rerun this cell to enable.\n",
              "      </output>\n",
              "      <script>// Copyright 2017 Google LLC\n",
              "//\n",
              "// Licensed under the Apache License, Version 2.0 (the \"License\");\n",
              "// you may not use this file except in compliance with the License.\n",
              "// You may obtain a copy of the License at\n",
              "//\n",
              "//      http://www.apache.org/licenses/LICENSE-2.0\n",
              "//\n",
              "// Unless required by applicable law or agreed to in writing, software\n",
              "// distributed under the License is distributed on an \"AS IS\" BASIS,\n",
              "// WITHOUT WARRANTIES OR CONDITIONS OF ANY KIND, either express or implied.\n",
              "// See the License for the specific language governing permissions and\n",
              "// limitations under the License.\n",
              "\n",
              "/**\n",
              " * @fileoverview Helpers for google.colab Python module.\n",
              " */\n",
              "(function(scope) {\n",
              "function span(text, styleAttributes = {}) {\n",
              "  const element = document.createElement('span');\n",
              "  element.textContent = text;\n",
              "  for (const key of Object.keys(styleAttributes)) {\n",
              "    element.style[key] = styleAttributes[key];\n",
              "  }\n",
              "  return element;\n",
              "}\n",
              "\n",
              "// Max number of bytes which will be uploaded at a time.\n",
              "const MAX_PAYLOAD_SIZE = 100 * 1024;\n",
              "\n",
              "function _uploadFiles(inputId, outputId) {\n",
              "  const steps = uploadFilesStep(inputId, outputId);\n",
              "  const outputElement = document.getElementById(outputId);\n",
              "  // Cache steps on the outputElement to make it available for the next call\n",
              "  // to uploadFilesContinue from Python.\n",
              "  outputElement.steps = steps;\n",
              "\n",
              "  return _uploadFilesContinue(outputId);\n",
              "}\n",
              "\n",
              "// This is roughly an async generator (not supported in the browser yet),\n",
              "// where there are multiple asynchronous steps and the Python side is going\n",
              "// to poll for completion of each step.\n",
              "// This uses a Promise to block the python side on completion of each step,\n",
              "// then passes the result of the previous step as the input to the next step.\n",
              "function _uploadFilesContinue(outputId) {\n",
              "  const outputElement = document.getElementById(outputId);\n",
              "  const steps = outputElement.steps;\n",
              "\n",
              "  const next = steps.next(outputElement.lastPromiseValue);\n",
              "  return Promise.resolve(next.value.promise).then((value) => {\n",
              "    // Cache the last promise value to make it available to the next\n",
              "    // step of the generator.\n",
              "    outputElement.lastPromiseValue = value;\n",
              "    return next.value.response;\n",
              "  });\n",
              "}\n",
              "\n",
              "/**\n",
              " * Generator function which is called between each async step of the upload\n",
              " * process.\n",
              " * @param {string} inputId Element ID of the input file picker element.\n",
              " * @param {string} outputId Element ID of the output display.\n",
              " * @return {!Iterable<!Object>} Iterable of next steps.\n",
              " */\n",
              "function* uploadFilesStep(inputId, outputId) {\n",
              "  const inputElement = document.getElementById(inputId);\n",
              "  inputElement.disabled = false;\n",
              "\n",
              "  const outputElement = document.getElementById(outputId);\n",
              "  outputElement.innerHTML = '';\n",
              "\n",
              "  const pickedPromise = new Promise((resolve) => {\n",
              "    inputElement.addEventListener('change', (e) => {\n",
              "      resolve(e.target.files);\n",
              "    });\n",
              "  });\n",
              "\n",
              "  const cancel = document.createElement('button');\n",
              "  inputElement.parentElement.appendChild(cancel);\n",
              "  cancel.textContent = 'Cancel upload';\n",
              "  const cancelPromise = new Promise((resolve) => {\n",
              "    cancel.onclick = () => {\n",
              "      resolve(null);\n",
              "    };\n",
              "  });\n",
              "\n",
              "  // Wait for the user to pick the files.\n",
              "  const files = yield {\n",
              "    promise: Promise.race([pickedPromise, cancelPromise]),\n",
              "    response: {\n",
              "      action: 'starting',\n",
              "    }\n",
              "  };\n",
              "\n",
              "  cancel.remove();\n",
              "\n",
              "  // Disable the input element since further picks are not allowed.\n",
              "  inputElement.disabled = true;\n",
              "\n",
              "  if (!files) {\n",
              "    return {\n",
              "      response: {\n",
              "        action: 'complete',\n",
              "      }\n",
              "    };\n",
              "  }\n",
              "\n",
              "  for (const file of files) {\n",
              "    const li = document.createElement('li');\n",
              "    li.append(span(file.name, {fontWeight: 'bold'}));\n",
              "    li.append(span(\n",
              "        `(${file.type || 'n/a'}) - ${file.size} bytes, ` +\n",
              "        `last modified: ${\n",
              "            file.lastModifiedDate ? file.lastModifiedDate.toLocaleDateString() :\n",
              "                                    'n/a'} - `));\n",
              "    const percent = span('0% done');\n",
              "    li.appendChild(percent);\n",
              "\n",
              "    outputElement.appendChild(li);\n",
              "\n",
              "    const fileDataPromise = new Promise((resolve) => {\n",
              "      const reader = new FileReader();\n",
              "      reader.onload = (e) => {\n",
              "        resolve(e.target.result);\n",
              "      };\n",
              "      reader.readAsArrayBuffer(file);\n",
              "    });\n",
              "    // Wait for the data to be ready.\n",
              "    let fileData = yield {\n",
              "      promise: fileDataPromise,\n",
              "      response: {\n",
              "        action: 'continue',\n",
              "      }\n",
              "    };\n",
              "\n",
              "    // Use a chunked sending to avoid message size limits. See b/62115660.\n",
              "    let position = 0;\n",
              "    do {\n",
              "      const length = Math.min(fileData.byteLength - position, MAX_PAYLOAD_SIZE);\n",
              "      const chunk = new Uint8Array(fileData, position, length);\n",
              "      position += length;\n",
              "\n",
              "      const base64 = btoa(String.fromCharCode.apply(null, chunk));\n",
              "      yield {\n",
              "        response: {\n",
              "          action: 'append',\n",
              "          file: file.name,\n",
              "          data: base64,\n",
              "        },\n",
              "      };\n",
              "\n",
              "      let percentDone = fileData.byteLength === 0 ?\n",
              "          100 :\n",
              "          Math.round((position / fileData.byteLength) * 100);\n",
              "      percent.textContent = `${percentDone}% done`;\n",
              "\n",
              "    } while (position < fileData.byteLength);\n",
              "  }\n",
              "\n",
              "  // All done.\n",
              "  yield {\n",
              "    response: {\n",
              "      action: 'complete',\n",
              "    }\n",
              "  };\n",
              "}\n",
              "\n",
              "scope.google = scope.google || {};\n",
              "scope.google.colab = scope.google.colab || {};\n",
              "scope.google.colab._files = {\n",
              "  _uploadFiles,\n",
              "  _uploadFilesContinue,\n",
              "};\n",
              "})(self);\n",
              "</script> "
            ]
          },
          "metadata": {}
        },
        {
          "output_type": "stream",
          "name": "stdout",
          "text": [
            "Saving high_example.jpg to high_example.jpg\n",
            "Saving low_example.jpg to low_example.jpg\n",
            "Saving medium_example.jpg to medium_example.jpg\n",
            "Saving very_low_example.jpg to very_low_example.jpg\n",
            "\n",
            "Example images uploaded successfully! ✅\n"
          ]
        }
      ]
    },
    {
      "cell_type": "code",
      "source": [
        "import gradio as gr\n",
        "import tensorflow as tf\n",
        "import numpy as np\n",
        "from PIL import Image\n",
        "\n",
        "# Load your final, trained model\n",
        "model = tf.keras.models.load_model('final_crowd_model.h5')\n",
        "\n",
        "# Define the class labels your model was trained on\n",
        "class_labels = ['High', 'Low', 'Medium', 'Very_Low']\n",
        "\n",
        "# Create the prediction function\n",
        "def predict_crowd_density(input_image):\n",
        "    if input_image is None:\n",
        "        return \"Please upload an image.\"\n",
        "    img = input_image.resize((150, 150))\n",
        "    img_array = np.array(img)\n",
        "    img_array = np.expand_dims(img_array, axis=0)\n",
        "    img_array = img_array / 255.0\n",
        "    prediction = model.predict(img_array, verbose=0)[0]\n",
        "    confidences = {label: float(score) for label, score in zip(class_labels, prediction)}\n",
        "    return confidences\n",
        "\n",
        "# --- Define the list of example images ---\n",
        "example_paths = [\n",
        "    [\"examples/very_low_example.jpg\"],\n",
        "    [\"examples/low_example.jpg\"],\n",
        "    [\"examples/medium_example.jpg\"],\n",
        "    [\"examples/high_example.jpg\"]\n",
        "]\n",
        "\n",
        "# Create and launch the Gradio Interface\n",
        "iface = gr.Interface(\n",
        "    fn=predict_crowd_density,\n",
        "    inputs=gr.Image(type=\"pil\", label=\"Upload a Crowd Image\"),\n",
        "    outputs=gr.Label(num_top_classes=4, label=\"Prediction Result\"),\n",
        "    title=\"Crowd Monitoring and Alert System (Final Model)\",\n",
        "    description=\"This model was trained with refined categories. Click an example below to test.\",\n",
        "    examples=example_paths\n",
        ")\n",
        "\n",
        "# Launch the app with a public, shareable link\n",
        "iface.launch(share=True)"
      ],
      "metadata": {
        "id": "6Wp1RiI-FL7w",
        "outputId": "e34546d7-32ea-4a4b-8596-fcd63a3ad3b4",
        "colab": {
          "base_uri": "https://localhost:8080/",
          "height": 628
        }
      },
      "execution_count": null,
      "outputs": [
        {
          "output_type": "stream",
          "name": "stderr",
          "text": [
            "WARNING:absl:Compiled the loaded model, but the compiled metrics have yet to be built. `model.compile_metrics` will be empty until you train or evaluate the model.\n"
          ]
        },
        {
          "output_type": "stream",
          "name": "stdout",
          "text": [
            "Colab notebook detected. To show errors in colab notebook, set debug=True in launch()\n",
            "* Running on public URL: https://594580cbb85511ee96.gradio.live\n",
            "\n",
            "This share link expires in 1 week. For free permanent hosting and GPU upgrades, run `gradio deploy` from the terminal in the working directory to deploy to Hugging Face Spaces (https://huggingface.co/spaces)\n"
          ]
        },
        {
          "output_type": "display_data",
          "data": {
            "text/plain": [
              "<IPython.core.display.HTML object>"
            ],
            "text/html": [
              "<div><iframe src=\"https://594580cbb85511ee96.gradio.live\" width=\"100%\" height=\"500\" allow=\"autoplay; camera; microphone; clipboard-read; clipboard-write;\" frameborder=\"0\" allowfullscreen></iframe></div>"
            ]
          },
          "metadata": {}
        },
        {
          "output_type": "execute_result",
          "data": {
            "text/plain": []
          },
          "metadata": {},
          "execution_count": 13
        }
      ]
    }
  ],
  "metadata": {
    "colab": {
      "provenance": []
    },
    "kernelspec": {
      "display_name": "Python 3",
      "name": "python3"
    },
    "language_info": {
      "name": "python"
    }
  },
  "nbformat": 4,
  "nbformat_minor": 0
}